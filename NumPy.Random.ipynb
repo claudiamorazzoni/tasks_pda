{
 "cells": [
  {
   "cell_type": "markdown",
   "metadata": {},
   "source": [
    "##### This task aims to get to know the numpy.random package in Python. Below you will see my solutions to the Tasks assessment. The autor is Claudia Morazzoni (G00387828@gmit.ie)"
   ]
  },
  {
   "cell_type": "markdown",
   "metadata": {},
   "source": [
    "## First, let's understand the NumPy library"
   ]
  },
  {
   "cell_type": "markdown",
   "metadata": {},
   "source": [
    "Before getting started let me introduce you [NumPy](https://numpy.org/devdocs/user/whatisnumpy.html). Numpy is a powerful Python library that is mainly used to perform calculations (including linear algebra) on multidimensional arrays. It is a library developed in C and, therefore, the manipulation and treatment of data become fast. NumPy provides a large set of functions and operations that help programmers perform numerical calculations easily. These types of numerical calculations are widely used in tasks such as:\n",
    "\n"
   ]
  },
  {
   "cell_type": "markdown",
   "metadata": {},
   "source": [
    "- __Machine Learning Models:__ When writing Machine Learning algorithms, it is assumed that several numerical calculations are performed in Array. For example, multiplication of Arrays, transposition, addition, etc. NumPy provides an excellent library for easy (in terms of code writing) and fast (in terms of speed) calculations. NumPy arrays are used to st ore training data, as well as the parameters of Machine Learning models. "
   ]
  },
  {
   "cell_type": "markdown",
   "metadata": {},
   "source": [
    "- __Image Processing and Computer Graphics:__ Images on the computer are represented as Multidimensional Arrays of numbers. NumPy becomes the most natural choice for it. NumPy, in fact, provides some excellent library functions for quick image manipulation. Some examples are mirroring an image, rotating an image by a certain angle, etc.\n"
   ]
  },
  {
   "cell_type": "markdown",
   "metadata": {},
   "source": [
    "- __Mathematical tasks:__ NumPy is very useful to perform various mathematical tasks such as numerical integration, differentiation, interpolation, extrapolation and many others. NumPy also has built-in functions for linear algebra and generation of random numbers. It is a library that can be used in conjunction with SciPy and Mat-plotlib. Replacing MATLAB when it comes to mathematical tasks."
   ]
  },
  {
   "cell_type": "markdown",
   "metadata": {},
   "source": [
    "## Finally Numpy Random"
   ]
  },
  {
   "cell_type": "markdown",
   "metadata": {},
   "source": [
    "NumPy has a sub-module called random that has several functions to generate random numbers (pseudo). Although Python has a standard library also called random, the NumPy library has more functionality and generates sample values ​​from various types of probability distributions."
   ]
  },
  {
   "cell_type": "markdown",
   "metadata": {},
   "source": [
    "In statistics, the concept of form of [distribution](https://en.wikipedia.org/wiki/Probability_distribution) refers to the form of the probability distribution and it describes the random behavior of a phenomenon. A statistical distribution is a function that defines a curve, and the area under that curve determines the probability of the event that it correlates to occur.\n",
    "Below, five of them will be presented."
   ]
  },
  {
   "cell_type": "markdown",
   "metadata": {},
   "source": [
    "### Normal Distribution"
   ]
  },
  {
   "cell_type": "markdown",
   "metadata": {},
   "source": [
    "We can obtain an array of random samples from the [normal distribution](https://numpy.org/doc/stable/reference/random/generated/numpy.random.Generator.normal.html#numpy.random.Generator.normal) through the Numpy function (np) random.normal where it will show us a symmetrical curve around its midpoint, presenting us the famous bell shape."
   ]
  },
  {
   "cell_type": "code",
   "execution_count": 12,
   "metadata": {},
   "outputs": [],
   "source": [
    "import numpy as np\n",
    "import matplotlib.pyplot as plt"
   ]
  },
  {
   "cell_type": "code",
   "execution_count": 13,
   "metadata": {},
   "outputs": [
    {
     "data": {
      "text/plain": [
       "array([ 2.23604735e-01,  2.90750730e-01, -1.96239378e+00,  2.79882403e-01,\n",
       "       -1.59271678e+00,  1.26669874e+00, -8.95351835e-01,  3.89465821e-02,\n",
       "        1.71381958e+00, -9.24219096e-01,  2.98145388e-01,  8.87059730e-01,\n",
       "        2.82722475e-01, -2.23222888e+00,  1.44611124e+00, -1.06649667e+00,\n",
       "        2.64517710e+00,  8.58867935e-01, -1.15700372e+00,  4.02643331e-02,\n",
       "        3.63675309e-01, -1.04703164e+00, -4.67994519e-01,  3.88313287e-01,\n",
       "       -5.33548891e-01, -1.75327313e-01,  1.13569954e+00, -1.21853959e+00,\n",
       "       -1.25388793e+00,  1.01228502e+00, -1.74627879e+00,  7.41771912e-01,\n",
       "        1.14258707e+00,  5.61155686e-01,  9.26458457e-01, -7.53280969e-02,\n",
       "        3.25856379e-01, -1.07824280e+00,  5.62196753e-01, -7.11850282e-01,\n",
       "       -8.02990782e-03,  2.21998383e-01, -7.67180979e-01,  6.33848797e-02,\n",
       "       -5.39617709e-01,  9.02088675e-02, -1.32280918e+00, -2.79277034e-01,\n",
       "       -1.60192136e-01,  7.82255247e-01,  1.58510432e+00,  4.61357730e-01,\n",
       "       -9.81353410e-01,  1.68327013e+00, -2.95897021e-01, -9.10299649e-01,\n",
       "        7.26642579e-03, -9.06472470e-02, -4.03030827e-01,  1.15867623e+00,\n",
       "        3.42295221e-01, -1.72517114e+00, -4.68503760e-01,  1.58939494e+00,\n",
       "        5.47950389e-01,  3.93830862e-01,  3.01049709e-01, -1.70511313e+00,\n",
       "        5.82275661e-01, -3.72367721e-01,  2.68979013e+00, -1.26387063e+00,\n",
       "       -1.21464731e-01, -1.09083442e+00, -2.29081942e+00,  7.85958475e-01,\n",
       "        8.60972430e-01,  1.19807307e-01, -8.13172938e-01, -1.41660555e+00,\n",
       "       -9.79347914e-02,  1.31701033e+00,  7.98679089e-01,  6.83435842e-02,\n",
       "        2.47598118e+00,  6.57860294e-01,  4.00963286e-01,  1.84370072e+00,\n",
       "        8.09104870e-01, -1.11603902e+00,  1.09151610e+00, -4.27779109e-02,\n",
       "        1.38714297e-01, -1.50790409e+00,  5.41294385e-01,  9.71250863e-01,\n",
       "       -8.73741284e-02, -9.27235471e-01,  4.72407777e-01,  1.70955591e+00,\n",
       "       -1.28588007e+00, -5.75303963e-01, -8.31218013e-01, -7.24361782e-01,\n",
       "        8.93753517e-01,  3.89822938e-02,  1.07640385e+00, -3.23125900e-01,\n",
       "        1.75128018e-01,  6.38880089e-01, -5.79972218e-01, -1.05322861e-01,\n",
       "       -8.15630420e-02,  1.64828766e+00,  2.49159848e+00,  3.69898406e-01,\n",
       "       -3.07550462e-02, -1.88515819e+00, -3.81445499e-01, -1.64644346e+00,\n",
       "       -2.45500853e-01, -2.03063400e+00,  6.28408070e-01, -9.09930446e-01,\n",
       "        1.84519426e+00,  4.12215360e-01,  5.44198698e-01,  1.01608647e-02,\n",
       "       -1.62772849e-01,  9.59026567e-01, -1.64879529e+00, -1.33255449e+00,\n",
       "        3.40541466e-01,  8.61952836e-01,  2.40032587e-01, -3.39425404e-01,\n",
       "       -4.19391069e-01,  1.07443383e+00,  1.12293346e+00, -6.82967915e-02,\n",
       "        1.39865241e+00,  1.03319190e+00, -1.17752325e-03,  7.99620282e-01,\n",
       "        1.33402147e+00, -1.86941563e+00,  6.78628010e-01,  1.33785545e-01,\n",
       "        2.45597583e-01,  1.41851857e+00, -1.16939578e+00,  1.40354047e+00,\n",
       "       -2.24242419e-01, -1.24984580e+00,  1.24308712e+00,  3.69541867e-01,\n",
       "       -5.77416745e-02,  1.50844850e+00,  5.85709131e-01,  1.46058447e-01,\n",
       "       -2.24051936e+00, -1.02504224e+00, -1.30758297e+00, -1.41279417e+00,\n",
       "       -1.73027318e-01, -6.35747628e-01, -9.43774234e-01, -9.95706755e-01,\n",
       "       -1.11951301e+00,  1.32998093e+00, -1.23791711e+00,  5.06725477e-01,\n",
       "        4.06930794e-01,  4.98245833e-01,  2.46354146e-01, -1.78109996e-01,\n",
       "        8.07406450e-01,  1.46649658e-01, -1.17364271e+00, -5.96256435e-01,\n",
       "        2.64426936e-01, -9.66465786e-01, -1.42998083e+00, -1.32473887e-01,\n",
       "        1.49308184e+00,  1.66348614e-01, -4.57834319e-01,  8.95225703e-01,\n",
       "        5.92656432e-01, -7.96414827e-01, -1.07490175e-01, -4.04200888e-01,\n",
       "       -6.89581320e-01, -2.08674203e+00, -4.34378953e-01,  2.54402235e+00,\n",
       "        5.12600508e-01, -8.42655930e-02, -4.74024458e-01, -4.44521215e-01,\n",
       "       -6.33201320e-01, -8.98226866e-01, -5.86626552e-01,  8.55622062e-01,\n",
       "        2.18311282e+00, -1.50721488e+00,  2.32286517e+00, -2.39113189e-01,\n",
       "       -1.41513505e+00,  7.18624782e-01,  2.38041337e-01,  5.97714194e-01,\n",
       "       -8.66603538e-01,  2.16464499e-01,  6.08426356e-01, -7.01335943e-02,\n",
       "       -1.78200020e-01,  6.58127324e-01,  2.18152683e-01, -8.83855743e-01,\n",
       "        9.77376694e-01, -1.53129611e-01, -1.35918279e-01,  6.86015445e-01,\n",
       "       -2.17081627e-01, -5.73522969e-02,  4.43587882e-01, -1.83552852e+00,\n",
       "        1.40982050e-01,  6.32954986e-01, -6.28371818e-01, -8.86429973e-01,\n",
       "        3.40642338e-01,  4.40274922e-01,  1.53125856e+00, -5.58291026e-01,\n",
       "       -6.38295171e-01,  1.01008773e+00,  9.97907588e-01,  6.87583797e-02,\n",
       "       -4.99174682e-02, -5.18411448e-01, -1.76240993e+00, -2.16009451e-01,\n",
       "       -9.58078236e-01,  1.42911799e+00, -1.86487788e-01,  1.72089387e-01,\n",
       "        1.30631597e+00, -1.36547303e+00,  1.15458196e+00, -9.52666839e-02,\n",
       "        1.76353950e+00,  2.26723145e+00,  9.08836743e-01, -1.74783170e+00,\n",
       "       -3.00975604e-01, -1.16211545e+00, -2.18529366e-01,  5.02767126e-01,\n",
       "       -1.03790415e+00,  9.09306964e-01, -1.20650688e+00,  6.84697380e-01,\n",
       "       -8.46865851e-01, -1.31387211e+00, -1.92610203e-01,  1.24867576e+00,\n",
       "       -5.10631025e-01,  6.99755159e-01, -1.36375293e-01,  3.80775892e-02,\n",
       "        9.08994895e-01, -3.14671659e-01,  1.65482507e+00, -2.71335143e-01,\n",
       "       -1.00584041e+00,  2.44660214e-01,  4.42990349e-01,  9.27835931e-02,\n",
       "       -6.61034475e-01,  2.95881111e-01,  1.11189734e+00,  1.38551569e+00,\n",
       "       -1.69179023e+00, -2.20776929e+00, -8.15053841e-01, -5.62845146e-01,\n",
       "       -4.69684438e-01,  3.15428690e-01, -6.30733682e-01,  3.80038010e-01,\n",
       "        1.28326546e-01, -6.61248920e-01, -7.21233722e-01, -1.25251495e+00,\n",
       "        1.65798220e+00,  3.68680307e-01, -7.77914787e-01, -1.09245282e+00,\n",
       "       -1.79628349e-02, -5.14117895e-02, -1.61107493e-02, -2.56495078e+00,\n",
       "       -6.52643816e-01,  7.98188864e-01,  1.37329940e-01, -8.02747932e-01,\n",
       "        2.97737029e-01,  5.33042936e-01,  6.73413994e-02,  1.06833300e+00,\n",
       "        7.11798353e-01,  3.02287919e-02, -1.79495250e+00,  1.20733530e-02,\n",
       "        4.57817478e-01,  1.68692737e-01, -1.30550605e+00, -1.90926485e-01,\n",
       "       -9.06670352e-02, -2.47939718e-01,  8.04193330e-01, -6.98350201e-02,\n",
       "       -3.27772454e-01, -9.58493180e-02,  1.45727496e+00,  3.13301079e-01,\n",
       "        2.92956104e-01, -3.54025940e-01,  1.45462994e-01,  1.67063856e+00,\n",
       "       -1.15045441e+00, -5.28206124e-01,  9.89663460e-01, -1.83654061e+00,\n",
       "        9.36196807e-01,  2.83945172e-01, -8.45736909e-02, -2.23677972e-01,\n",
       "        1.03837748e+00,  1.27269614e+00,  1.08704169e+00,  3.33630006e-01,\n",
       "       -9.61185879e-01, -2.17900598e-01, -1.07037820e+00, -1.24179285e-01,\n",
       "        7.55041467e-01, -9.39818880e-01, -1.31256244e+00, -6.92718283e-01,\n",
       "       -1.34148039e+00,  2.36972236e+00,  6.00681925e-01,  1.49068397e+00,\n",
       "       -1.36396975e+00,  3.66046855e-01,  2.39631764e-01, -2.43337659e-02,\n",
       "        2.09585662e-01, -1.82572825e+00, -4.11334936e-01,  1.08549053e+00,\n",
       "       -1.04972041e-01,  3.55292662e-01, -1.28889349e+00,  1.23972345e+00,\n",
       "       -2.43640158e-01, -5.29765150e-01, -6.72082107e-02,  9.21987394e-01,\n",
       "       -1.07010223e+00,  1.01898613e+00, -1.02763889e+00,  1.13787725e+00,\n",
       "        7.40008083e-01, -7.56043819e-01, -1.97522602e+00, -4.00780873e-01,\n",
       "        1.60611261e+00,  7.54788242e-01,  1.19546886e-01, -9.96675854e-02,\n",
       "       -5.65615059e-01,  4.10224923e-01, -5.43244322e-02,  3.01345758e+00,\n",
       "        5.69337609e-01,  2.16764695e+00,  7.12498702e-01, -8.22717259e-01,\n",
       "        5.16248385e-01, -2.00115262e-01, -9.60086631e-01, -4.46971871e-01,\n",
       "       -3.06471517e-01, -1.12063317e+00, -9.25023101e-02, -1.18595335e+00,\n",
       "        6.09540927e-01, -1.26245015e+00,  7.38996806e-01,  2.52275325e-01,\n",
       "       -5.01663082e-01,  9.08566759e-01, -1.03409736e+00, -3.51386668e-01,\n",
       "        7.72036186e-01,  9.04529423e-02, -1.83266747e-01,  8.83661521e-01,\n",
       "       -6.00259894e-01, -1.14345006e+00, -1.15253076e-01, -4.38033257e-01,\n",
       "        1.26625692e-01, -9.15001818e-02,  1.10039965e-01, -1.48599051e+00,\n",
       "        2.90216567e-01,  1.76892497e-02, -6.72841664e-01, -1.35763285e-01,\n",
       "       -6.03697477e-01,  1.78081791e+00,  4.98466763e-02, -1.30574611e+00,\n",
       "       -6.18921384e-02, -2.66920690e-01, -6.43329514e-02, -1.87430312e+00,\n",
       "       -1.08951051e+00,  8.23537883e-01,  1.00361937e+00,  7.24285225e-01,\n",
       "        6.31638585e-01, -1.13594068e+00, -2.41354243e+00,  1.46770875e+00,\n",
       "       -2.73384152e+00, -6.01710770e-01, -3.05086051e-01, -1.44216332e-02,\n",
       "       -6.33679056e-01, -1.16591782e+00,  1.02114810e+00,  1.80514686e+00,\n",
       "       -8.28371161e-01, -1.03104664e-01, -4.47358604e-01,  8.81121006e-02,\n",
       "       -6.79442447e-01,  5.60420517e-01, -1.12709961e+00,  1.45920280e+00,\n",
       "       -7.55634227e-01,  1.60546934e+00, -3.04410094e-01,  1.78324316e+00,\n",
       "       -2.24190070e+00,  3.23782970e-01, -1.03373295e-01, -1.18442422e+00,\n",
       "       -4.57080488e-01, -1.53407855e-01,  4.07370968e-01, -2.08773869e+00,\n",
       "       -8.08504803e-02, -2.22635523e+00,  2.52301965e+00, -1.17527207e+00,\n",
       "        8.86739741e-01, -1.09549902e+00, -3.42911850e-03,  1.14905830e+00,\n",
       "        9.84406308e-01, -1.70796024e-01,  1.31254389e+00, -8.29639212e-01,\n",
       "       -4.23407240e-01,  7.48213534e-01,  8.80534650e-01,  1.96187578e+00,\n",
       "        2.41530822e-01,  4.70788609e-01,  3.28741301e-01,  1.37602624e+00,\n",
       "        3.44922137e-01,  2.53935733e+00, -1.45425883e+00,  5.32270973e-01,\n",
       "       -1.65180955e-01,  1.48383568e+00, -5.46809099e-01, -3.16810741e+00,\n",
       "        2.03426419e-01,  3.19451940e-01, -6.45560638e-01, -7.02823696e-01,\n",
       "        1.33059888e+00,  6.02553651e-02, -1.21936951e+00,  6.72292169e-02,\n",
       "        4.44223199e-01,  8.59161890e-01, -3.33277693e-01,  1.05784462e+00,\n",
       "       -4.96909166e-01,  1.20583272e+00,  2.69244858e-01,  7.89988322e-01,\n",
       "        9.20158891e-01,  1.34501433e+00, -6.48586324e-01, -2.07040827e+00,\n",
       "       -4.73372402e-01,  7.27337390e-01,  8.87157562e-01, -5.14212546e-01,\n",
       "       -9.80579523e-01, -4.83041814e-01,  1.78870579e+00, -8.13402811e-01,\n",
       "       -6.91572182e-01,  4.98553009e-01,  1.15822140e-01,  2.90497561e-01,\n",
       "       -2.82544733e-01,  9.20974383e-01,  7.68403372e-01, -1.21913607e+00,\n",
       "       -9.95169624e-01,  1.34892282e+00,  6.97607711e-01, -9.47066223e-01,\n",
       "       -3.00391716e-01, -2.08511364e-01, -1.26787232e+00,  1.36721712e+00,\n",
       "        1.42035096e+00, -3.30429084e-01,  2.69537934e-01,  3.57752664e-01,\n",
       "        6.66325526e-02,  1.23565720e+00,  1.67462063e+00,  2.09268223e-01,\n",
       "       -8.74624348e-01,  1.36999144e+00,  2.81295898e-02,  1.64602584e-01,\n",
       "       -4.46672680e-01,  5.07056589e-01,  1.88093329e-01, -3.86363545e-01,\n",
       "        1.58836686e+00, -2.73312177e-01,  1.63623291e+00, -1.30455658e+00,\n",
       "       -1.29115815e-01, -8.99516553e-01,  7.57844420e-01, -9.12084959e-01,\n",
       "        6.99824727e-01, -7.84548878e-01, -2.53198760e-01,  2.10682105e-01,\n",
       "        2.33089680e-02, -1.18049510e+00, -9.52619673e-01, -1.81018292e+00,\n",
       "       -6.40933651e-01, -4.78997943e-01,  3.16918118e-01,  5.16536871e-01,\n",
       "       -9.47861184e-01, -6.67046970e-01,  2.81264375e-01, -1.63833877e+00,\n",
       "       -1.54664109e-01,  7.80446070e-01,  5.59672598e-01,  1.27301605e+00,\n",
       "       -8.01834154e-01,  3.15659850e-01,  9.00620094e-01, -2.59717958e-01,\n",
       "        1.02311581e-01,  1.33582690e+00,  1.87443521e-01,  1.71355556e+00,\n",
       "        5.34998621e-01,  1.50521718e-01, -7.53360476e-01,  1.55841383e-02,\n",
       "        8.35030031e-01, -6.62381963e-01,  8.31042646e-01, -6.14729755e-01,\n",
       "       -4.58352208e-01,  1.58495564e+00, -1.81561807e+00,  9.59651877e-01,\n",
       "       -1.34947931e+00,  1.48318780e+00, -6.22870968e-01,  5.04217122e-01,\n",
       "       -5.81408916e-01, -1.39898534e-01,  7.65229806e-01, -3.54426504e-01,\n",
       "        1.25275340e+00,  2.16097071e+00, -6.02141187e-01, -5.44900188e-01,\n",
       "       -5.71527824e-01,  8.06167343e-01, -9.87402894e-01,  7.60380890e-02,\n",
       "       -1.75743254e-01, -9.07712404e-01,  5.80571794e-01, -2.70203577e-01,\n",
       "       -6.84269661e-01, -1.25951511e+00,  6.62270625e-01, -9.97907997e-01,\n",
       "        2.30752062e-01,  9.36762006e-01, -1.09816374e+00, -8.56534882e-01,\n",
       "       -4.01032565e-01,  1.70151380e+00, -3.86699067e-01,  2.25543439e-01,\n",
       "        9.84984983e-02,  8.82563647e-01, -1.05167291e+00, -2.85687514e-01,\n",
       "        2.06346592e+00,  8.14464756e-01, -1.81824634e-01, -7.71797162e-01,\n",
       "        1.02474425e+00, -3.86859555e-01, -1.66160642e+00, -7.01903975e-01,\n",
       "       -1.05166075e+00, -1.59167096e+00,  1.26428104e+00,  2.04296594e-01,\n",
       "       -1.46724215e+00, -3.41125247e-03, -2.44679926e+00,  1.18316690e+00,\n",
       "        5.18754261e-01, -1.75394494e+00,  1.02614437e+00, -8.18201840e-01,\n",
       "       -8.86915593e-01, -2.07930040e+00, -9.51805315e-01,  2.78337501e-01,\n",
       "        8.91578030e-01,  1.11886199e-01, -5.27011679e-01, -3.59456359e-01,\n",
       "       -9.76334602e-01,  3.72365961e-01, -5.40234950e-01, -1.53337019e+00,\n",
       "        5.99430954e-01, -1.38610734e+00, -2.76789314e-01, -1.85546901e+00,\n",
       "        6.12869988e-01,  7.56349205e-01, -4.33185836e-01, -2.20827328e+00,\n",
       "        3.93122094e-01, -1.46216478e+00, -1.69628775e+00, -1.80459319e+00,\n",
       "       -7.62044296e-01,  1.16513832e+00,  3.08898012e-01,  7.77111758e-01,\n",
       "        5.38726971e-01,  9.04505238e-01,  7.68340157e-01, -1.29029377e+00,\n",
       "        1.31037916e+00,  4.34572153e-02,  9.14884766e-01,  1.34173411e+00,\n",
       "        2.55928416e-01,  9.59342089e-01, -1.47631521e-01,  2.55474678e+00,\n",
       "        3.50763173e-01, -1.11073854e+00,  9.97291952e-01,  2.30705995e-01,\n",
       "       -6.93257457e-01, -1.37752313e+00, -1.04621592e-01,  1.95753439e-01,\n",
       "       -1.61085808e+00,  1.20932132e+00,  1.45418112e-02,  1.06306512e+00,\n",
       "       -5.47721404e-01,  5.68301214e-01, -7.85244552e-01,  2.77911594e-02,\n",
       "       -1.86348643e-01,  1.43944722e+00,  4.46690630e-01, -6.43083088e-01,\n",
       "        6.25194919e-01,  1.63758178e-01, -1.89153301e+00,  6.18195397e-01,\n",
       "        3.16822010e+00, -1.97945773e-01, -1.24085484e+00,  1.67196754e+00,\n",
       "       -1.22462322e+00,  2.66399838e-01, -7.49212628e-01,  4.97108560e-01,\n",
       "       -4.20302755e-01,  3.21785015e-02,  6.96829017e-01,  9.85168514e-01,\n",
       "       -1.93869635e+00,  2.15484316e-01, -1.12099767e-01,  2.55046749e-01,\n",
       "       -1.56876240e+00,  4.90453030e-01, -1.53228793e+00, -5.02870016e-01,\n",
       "       -5.06790869e-01,  4.33664524e-02, -3.35311086e-01,  1.75138796e-01,\n",
       "        4.26711154e-01,  2.98945513e+00,  1.00336875e+00, -4.87418111e-01,\n",
       "        4.20951153e-01,  7.79651237e-01,  1.36650398e-01, -1.31111149e+00,\n",
       "        1.01798510e+00,  2.02043012e+00, -1.98344074e+00, -6.75148832e-01,\n",
       "       -2.61629387e-01,  1.12470225e-01,  9.62695902e-01,  3.23808288e-02,\n",
       "       -1.03603228e+00,  2.07774514e+00, -5.23897605e-01, -3.45688570e-01,\n",
       "       -3.60152509e-01, -6.08082598e-01,  1.84817914e-01, -3.93440362e-01,\n",
       "       -1.30490634e+00,  6.35214101e-01, -2.90768846e-01, -1.35399118e+00,\n",
       "        8.52154385e-01, -3.07630602e-01, -4.47276680e-01, -2.62824569e-02,\n",
       "       -1.59275734e+00, -1.07375345e-01,  8.82124813e-01, -2.63890700e+00,\n",
       "       -1.10420782e-01, -8.87177371e-01,  1.34140641e+00,  1.65836560e+00,\n",
       "        5.17647365e-01,  5.67512135e-01,  6.21899125e-01, -7.32996539e-02,\n",
       "       -4.87877912e-01,  4.42933974e-01,  1.38630927e+00,  1.35347629e+00,\n",
       "        7.08101474e-01, -5.55882480e-01,  3.92752988e-01,  1.46904860e+00,\n",
       "        5.06731152e-01,  6.13227755e-01, -1.99981629e+00, -5.20246561e-01,\n",
       "       -1.67271318e+00, -1.28613196e+00, -1.23335040e+00, -1.22437878e+00,\n",
       "       -4.17949110e-01, -6.55780057e-01,  5.04534870e-01,  6.50185285e-01,\n",
       "        1.13358776e+00, -2.18221164e-01, -3.12904817e-01,  9.69623430e-01,\n",
       "        1.16418678e+00,  3.92803954e-01, -1.56476968e+00,  1.28559806e+00,\n",
       "       -4.87245880e-01, -9.30707899e-01,  1.26285217e+00, -2.94592036e+00,\n",
       "       -1.35081801e+00, -3.70851132e-01, -4.24078976e-01,  4.97235666e-01,\n",
       "       -7.05624379e-01, -1.17687279e+00, -7.17926024e-01, -7.29329705e-01,\n",
       "        7.77992013e-01, -6.45668505e-01,  8.52672703e-01, -2.22797655e-01,\n",
       "        1.70625846e-01,  6.78672749e-01, -8.45974005e-01, -4.79596717e-01,\n",
       "       -2.12827048e+00, -2.16124703e+00,  1.62414686e+00, -5.80449680e-01,\n",
       "        5.25727156e-01, -5.88423957e-01, -4.79140373e-01,  2.61082969e-01,\n",
       "       -4.45870423e-01, -1.98913656e+00,  2.18035949e-01, -1.26285636e+00,\n",
       "        5.45776274e-01,  1.45850458e-01,  8.39262365e-02,  3.03873602e-01,\n",
       "       -7.60596681e-01,  7.35908056e-01, -5.99586532e-01,  8.00636064e-01,\n",
       "        1.98826545e-01,  9.67700737e-02, -1.71321801e+00, -1.21669694e+00,\n",
       "        1.34419426e+00,  1.59265369e-01, -5.70607350e-01, -8.31557258e-01,\n",
       "       -5.79731934e-01,  9.15183270e-01,  9.59214918e-01,  5.54712216e-01,\n",
       "        1.67535342e+00, -9.17875856e-01,  9.77524203e-01,  1.23566795e-01,\n",
       "       -9.82751446e-01,  2.83084250e-02, -6.78666280e-01, -1.57193985e+00,\n",
       "       -6.21356421e-01, -8.18696227e-01, -8.31277929e-01,  3.98367707e-02,\n",
       "       -1.15527930e+00,  9.44796524e-01, -6.18347798e-01,  2.37325736e-01,\n",
       "        5.32746725e-01,  6.70583241e-04, -1.60233868e-02, -1.06620437e-01,\n",
       "        3.06432443e-03,  7.45084307e-01,  4.67943829e-01, -4.74497384e-02,\n",
       "       -1.57716213e+00,  4.65877851e-01, -7.00634766e-01,  7.76887652e-01,\n",
       "        1.21338609e-01,  8.76427674e-01, -5.55882469e-01, -5.24928991e-01,\n",
       "        1.44118183e+00,  1.88502242e+00, -5.79575957e-02, -1.94607613e+00,\n",
       "        4.87580774e-02, -1.27736547e-02,  8.09870788e-01, -5.33594235e-01,\n",
       "        1.75779442e-01, -1.11496634e+00, -1.38436596e+00, -1.95165907e-01,\n",
       "       -8.00088835e-01,  7.33594089e-01,  1.02233640e+00,  4.26464756e-01,\n",
       "        1.88079042e-01, -7.40388598e-01,  6.93329142e-01, -1.38107405e-01,\n",
       "        7.86209680e-01, -1.08269966e-01, -2.38315482e-01,  1.63935943e+00,\n",
       "        5.01455063e-01, -4.37263371e-01,  1.26918636e-01,  1.71766217e-01,\n",
       "        1.21443239e+00, -6.08243692e-01, -8.95899016e-01,  4.98776318e-01,\n",
       "       -1.46637385e-01,  9.03399377e-01,  5.41971333e-01,  7.03213886e-01,\n",
       "        8.12697535e-01, -7.08269766e-01, -1.39829060e+00,  3.55797287e-01,\n",
       "        1.51896751e+00,  6.40912621e-01, -1.45330654e-01, -4.39187785e-01,\n",
       "       -5.90529455e-02, -2.46775216e-01, -1.34003485e-01,  8.32983858e-01,\n",
       "        6.26667305e-01, -5.81175428e-01,  1.01860462e+00, -2.11660022e+00,\n",
       "        6.00959604e-01, -4.95480079e-01,  9.99534711e-01,  9.13469613e-02,\n",
       "        3.04200389e-01,  3.08576615e-01,  6.55335882e-01,  1.32614954e+00,\n",
       "        1.32637279e+00, -3.47138372e-01, -5.08576291e-01,  1.02522447e+00,\n",
       "       -1.39578961e+00,  3.73120932e-01, -5.73938905e-01, -1.27456820e-01,\n",
       "        7.34253461e-01, -4.05039624e-01, -1.24083744e-01,  2.51531387e-01,\n",
       "        2.08813011e-02,  4.81237467e-01, -1.87237316e-01, -2.06831527e+00,\n",
       "       -1.67361466e+00,  8.41429587e-01, -6.88303931e-01,  1.79670589e+00,\n",
       "        6.98032935e-01,  5.09182658e-01, -1.24326221e-01, -9.05115313e-01,\n",
       "       -6.42181216e-01,  9.01674397e-03, -1.09474230e+00,  7.65290515e-01,\n",
       "       -5.09998671e-01,  1.38447254e-01,  3.10259096e-01,  1.82522753e+00,\n",
       "       -1.05532021e+00,  2.80925955e-01, -2.67909872e-01,  7.31970668e-01])"
      ]
     },
     "execution_count": 13,
     "metadata": {},
     "output_type": "execute_result"
    }
   ],
   "source": [
    "# One-by-thousand array of samples(One dimensional array)\n",
    "s=np.random.normal(loc=0, scale=1, size=(1000)) # extracting random samples of normal distribution according to the function presented in the documentation\n",
    "s"
   ]
  },
  {
   "cell_type": "code",
   "execution_count": 17,
   "metadata": {},
   "outputs": [
    {
     "data": {
      "text/plain": [
       "Text(0, 0.5, 'Frequency')"
      ]
     },
     "execution_count": 17,
     "metadata": {},
     "output_type": "execute_result"
    },
    {
     "data": {
      "image/png": "[encoded data removed]",
      "text/plain": [
       "<Figure size 432x288 with 1 Axes>"
      ]
     },
     "metadata": {
      "needs_background": "light"
     },
     "output_type": "display_data"
    }
   ],
   "source": [
    "# As previously chosen in the random.normal function, the largest concentration of random numbers is close to zero\n",
    "plt.hist(s) # displaying the histogram of the samples\n",
    "plt.title(\"Random Numbers\")\n",
    "plt.xlabel(\"Scale\")\n",
    "plt.ylabel(\"Frequency\")\n"
   ]
  },
  {
   "cell_type": "markdown",
   "metadata": {},
   "source": [
    "### Poison Distribution"
   ]
  },
  {
   "cell_type": "markdown",
   "metadata": {},
   "source": [
    "The [Poisson distribution](https://en.wikipedia.org/wiki/Poisson_distribution) is the probability of occurrence of each value of a discrete (finite count) random variable, where the values are countable, as a list of non-negative integers and in a specific interval.\n",
    "\n",
    "&nbsp;\n",
    "\n",
    "To recognize a Poisson distribution, just look at the following three aspects: \n",
    "- The experiment calculates how many times an event occurs in a given time interval, area, volume, etc; \n",
    "- The probability of the event occurring is the same for each interval; \n",
    "- The number of occurrences in one range is independent of the other."
   ]
  },
  {
   "cell_type": "code",
   "execution_count": 48,
   "metadata": {},
   "outputs": [
    {
     "data": {
      "text/plain": [
       "array([5, 3, 2, ..., 5, 2, 4])"
      ]
     },
     "execution_count": 48,
     "metadata": {},
     "output_type": "execute_result"
    }
   ],
   "source": [
    "# interval expectation (should be >= 0) for one hundred thousand samples\n",
    "s = np.random.poisson(5, 100000)\n",
    "s"
   ]
  },
  {
   "cell_type": "code",
   "execution_count": 50,
   "metadata": {},
   "outputs": [
    {
     "data": {
      "text/plain": [
       "Text(0, 0.5, 'Probability')"
      ]
     },
     "execution_count": 50,
     "metadata": {},
     "output_type": "execute_result"
    },
    {
     "data": {
      "image/png": "[encoded data removed]",
      "text/plain": [
       "<Figure size 432x288 with 1 Axes>"
      ]
     },
     "metadata": {
      "needs_background": "light"
     },
     "output_type": "display_data"
    }
   ],
   "source": [
    "plt.hist(s)\n",
    "plt.title(\"Discrete Data\")\n",
    "plt.xlabel(\"Number of Events\")\n",
    "plt.ylabel(\"Probability\")"
   ]
  },
  {
   "cell_type": "code",
   "execution_count": null,
   "metadata": {},
   "outputs": [],
   "source": []
  },
  {
   "cell_type": "code",
   "execution_count": null,
   "metadata": {},
   "outputs": [],
   "source": []
  },
  {
   "cell_type": "code",
   "execution_count": null,
   "metadata": {},
   "outputs": [],
   "source": []
  },
  {
   "cell_type": "code",
   "execution_count": null,
   "metadata": {},
   "outputs": [],
   "source": []
  },
  {
   "cell_type": "markdown",
   "metadata": {},
   "source": [
    "#### 1. What is the overall purpose of the package?"
   ]
  },
  {
   "cell_type": "markdown",
   "metadata": {},
   "source": [
    "#### 2. Explaining the use of the “Simple random data” and “Permutations” functions.\n"
   ]
  },
  {
   "cell_type": "markdown",
   "metadata": {},
   "source": [
    "#### 3. Explaining the use and purpose of at least five “Distributions” functions."
   ]
  },
  {
   "cell_type": "markdown",
   "metadata": {},
   "source": [
    "#### 4. Explaining the use of seeds in generating pseudorandom numbers."
   ]
  },
  {
   "cell_type": "markdown",
   "metadata": {},
   "source": [
    "### Other References"
   ]
  },
  {
   "cell_type": "markdown",
   "metadata": {},
   "source": []
  },
  {
   "cell_type": "markdown",
   "metadata": {},
   "source": []
  },
  {
   "cell_type": "markdown",
   "metadata": {},
   "source": []
  },
  {
   "cell_type": "code",
   "execution_count": null,
   "metadata": {},
   "outputs": [],
   "source": []
  }
 ],
 "metadata": {
  "kernelspec": {
   "display_name": "Python 3",
   "language": "python",
   "name": "python3"
  },
  "language_info": {
   "codemirror_mode": {
    "name": "ipython",
    "version": 3
   },
   "file_extension": ".py",
   "mimetype": "text/x-python",
   "name": "python",
   "nbconvert_exporter": "python",
   "pygments_lexer": "ipython3",
   "version": "3.8.3"
  }
 },
 "nbformat": 4,
 "nbformat_minor": 4
}
