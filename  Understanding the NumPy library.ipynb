{
 "cells": [
  {
   "cell_type": "markdown",
   "metadata": {},
   "source": [
    "## Understanding the NumPy library"
   ]
  },
  {
   "cell_type": "markdown",
   "metadata": {},
   "source": [
    "#### Here we will explain the use of the Numpy package, including detailing at least five of the distributions provided in the package."
   ]
  },
  {
   "cell_type": "markdown",
   "metadata": {},
   "source": [
    "#### 1. What is the overall purpose of the package?\n"
   ]
  },
  {
   "cell_type": "markdown",
   "metadata": {},
   "source": [
    "NumPy is a powerful Python library that is mainly used to perform calculations (including linear algebra) on multidimensional arrays. It is a library developed in C and, therefore, the manipulation and treatment of data become fast. NumPy provides a large set of functions (we'll see the main ones later) and operations that help programmers perform numerical calculations easily. These types of numerical calculations are widely used in tasks such as:\n",
    "&nbsp;\n",
    "\n",
    "- __Machine Learning Models:__ When writing Machine Learning algorithms, it is assumed that several numerical calculations are performed in Array. For example, multiplication of Arrays, transposition, addition, etc. NumPy provides an excellent library for easy (in terms of code writing) and fast (in terms of speed) calculations. NumPy arrays are used to store training data, as well as the parameters of Machine Learning models.\n",
    "&nbsp;\n",
    "\n",
    "- __Image Processing and Computer Graphics:__ Images on the computer are represented as Multidimensional Arrays of numbers. NumPy becomes the most natural choice for it. NumPy, in fact, provides some excellent library functions for quick image manipulation. Some examples are mirroring an image, rotating an image by a certain angle, etc.\n",
    "&nbsp;\n",
    "- __Mathematical tasks:__ NumPy is very useful to perform various mathematical tasks such as numerical integration, differentiation, interpolation, extrapolation and many others. NumPy also has built-in functions for linear algebra and generation of random numbers. It is a library that can be used in conjunction with SciPy and Mat-plotlib. Replacing MATLAB when it comes to mathematical tasks."
   ]
  },
  {
   "cell_type": "markdown",
   "metadata": {},
   "source": [
    "#### 2. Explaining the use of the “Simple random data” and “Permutations” functions.\n"
   ]
  },
  {
   "cell_type": "markdown",
   "metadata": {},
   "source": [
    "#### 3. Explaining the use and purpose of at least five “Distributions” functions."
   ]
  },
  {
   "cell_type": "markdown",
   "metadata": {},
   "source": [
    "#### 4. Explaining the use of seeds in generating pseudorandom numbers."
   ]
  },
  {
   "cell_type": "code",
   "execution_count": null,
   "metadata": {},
   "outputs": [],
   "source": []
  }
 ],
 "metadata": {
  "kernelspec": {
   "display_name": "Python 3",
   "language": "python",
   "name": "python3"
  },
  "language_info": {
   "codemirror_mode": {
    "name": "ipython",
    "version": 3
   },
   "file_extension": ".py",
   "mimetype": "text/x-python",
   "name": "python",
   "nbconvert_exporter": "python",
   "pygments_lexer": "ipython3",
   "version": "3.8.3"
  }
 },
 "nbformat": 4,
 "nbformat_minor": 4
}
