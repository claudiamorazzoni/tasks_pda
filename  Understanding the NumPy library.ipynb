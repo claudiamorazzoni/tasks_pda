{
 "cells": [
  {
   "cell_type": "markdown",
   "metadata": {},
   "source": [
    "##### This task aims to get to know the numpy.random package in Python. Below you will see my solutions to the Tasks assessment. The autor is Claudia Morazzoni (G00387828@gmit.ie)"
   ]
  },
  {
   "cell_type": "markdown",
   "metadata": {},
   "source": [
    "## First, let's understand the NumPy library"
   ]
  },
  {
   "cell_type": "markdown",
   "metadata": {},
   "source": [
    "Before getting started let me introduce you [NumPy](https://numpy.org/devdocs/user/whatisnumpy.html). Numpy is a powerful Python library that is mainly used to perform calculations (including linear algebra) on multidimensional arrays. It is a library developed in C and, therefore, the manipulation and treatment of data become fast. NumPy provides a large set of functions and operations that help programmers perform numerical calculations easily. These types of numerical calculations are widely used in tasks such as:\n",
    "\n"
   ]
  },
  {
   "cell_type": "markdown",
   "metadata": {},
   "source": [
    "- __Machine Learning Models:__ When writing Machine Learning algorithms, it is assumed that several numerical calculations are performed in Array. For example, multiplication of Arrays, transposition, addition, etc. NumPy provides an excellent library for easy (in terms of code writing) and fast (in terms of speed) calculations. NumPy arrays are used to st ore training data, as well as the parameters of Machine Learning models. "
   ]
  },
  {
   "cell_type": "markdown",
   "metadata": {},
   "source": [
    "- __Image Processing and Computer Graphics:__ Images on the computer are represented as Multidimensional Arrays of numbers. NumPy becomes the most natural choice for it. NumPy, in fact, provides some excellent library functions for quick image manipulation. Some examples are mirroring an image, rotating an image by a certain angle, etc.\n",
    "&nbsp;"
   ]
  },
  {
   "cell_type": "markdown",
   "metadata": {},
   "source": [
    "- __Mathematical tasks:__ NumPy is very useful to perform various mathematical tasks such as numerical integration, differentiation, interpolation, extrapolation and many others. NumPy also has built-in functions for linear algebra and generation of random numbers. It is a library that can be used in conjunction with SciPy and Mat-plotlib. Replacing MATLAB when it comes to mathematical tasks."
   ]
  },
  {
   "cell_type": "markdown",
   "metadata": {},
   "source": [
    "## Finally Numpy Random"
   ]
  },
  {
   "cell_type": "markdown",
   "metadata": {},
   "source": [
    "NumPy has a sub-module called random that has several functions to generate random numbers (pseudo). Although Python has a standard library also called random, the NumPy library has more functionality and generates sample values ​​from various types of probability distributions."
   ]
  },
  {
   "cell_type": "markdown",
   "metadata": {},
   "source": [
    "In statistics, the concept of form of [distribution](https://en.wikipedia.org/wiki/List_of_probability_distributions) refers to the form of the probability distribution, that is, it describes the random behavior of a phenomenon."
   ]
  },
  {
   "cell_type": "markdown",
   "metadata": {},
   "source": [
    "As a solution here, we can obtain an array of random samples from the [normal distribution](https://numpy.org/doc/stable/reference/random/generated/numpy.random.Generator.normal.html#numpy.random.Generator.normal)."
   ]
  },
  {
   "cell_type": "code",
   "execution_count": 8,
   "metadata": {},
   "outputs": [],
   "source": [
    "import numpy as np\n",
    "import matlibplot as plt"
   ]
  },
  {
   "cell_type": "code",
   "execution_count": 100,
   "metadata": {},
   "outputs": [
    {
     "data": {
      "text/plain": [
       "array([[-2.15235242, -0.10646155, -3.22357359, -0.09841474, -1.14655663,\n",
       "        -0.20613333, -3.08885121, -2.18561323, -0.55125847,  1.84317218],\n",
       "       [-0.16314381, -1.69953427, -1.0770532 , -4.96549001, -2.58289584,\n",
       "         4.264435  ,  1.58977527,  3.36141285,  4.68377664,  0.42675504],\n",
       "       [-1.6904918 , -0.99276946, -0.25235685, -0.07064174,  1.05660954,\n",
       "        -0.36652487, -2.17404405,  0.50262106,  0.1447427 , -0.29692955],\n",
       "       [ 2.18594339, -0.62053002,  0.65037953, -1.35658087,  0.59481806,\n",
       "        -1.07186903,  1.72248708,  0.04049026, -0.77276316, -2.51120518],\n",
       "       [ 1.33015679, -0.81384186,  2.44821344, -1.81968191, -0.61466852,\n",
       "        -3.64184963,  0.67135634,  2.16113968,  0.85812133, -0.5906852 ],\n",
       "       [-0.51539022,  1.47888489, -3.35175458,  0.23190016, -0.03966004,\n",
       "        -3.77835789, -1.31376581, -1.20302402,  1.47406834, -2.00145814],\n",
       "       [ 3.01235841,  0.31752057,  1.16907325,  1.75235144, -1.43137098,\n",
       "         1.37545535,  1.35601011, -1.15962906,  1.29950844, -2.80719831],\n",
       "       [-0.69208874, -0.17213847,  3.33872186, -3.26464884,  0.40494428,\n",
       "        -0.69557436,  1.20216218, -1.44524846, -2.73814806,  1.31674578],\n",
       "       [-3.79642425, -1.04928631, -1.53334105, -3.88228569,  0.81037318,\n",
       "        -1.25626929,  1.4087981 ,  1.05484009, -1.13734536, -5.89191667],\n",
       "       [ 0.53414288, -3.3427507 , -3.56821962, -2.00602817,  2.97151236,\n",
       "        -0.30067312, -0.78558611, -1.16093783, -3.95289128,  1.60526963]])"
      ]
     },
     "execution_count": 100,
     "metadata": {},
     "output_type": "execute_result"
    }
   ],
   "source": [
    "s=np.random.normal(loc=0, scale=2, size=(10,10)) # extracting random samples of normal distribution according to the function presented in the documentation\n",
    "s"
   ]
  },
  {
   "cell_type": "code",
   "execution_count": 102,
   "metadata": {},
   "outputs": [
    {
     "data": {
      "text/plain": [
       "(array([[0., 1., 0., 2., 1., 2., 2., 1., 1., 0.],\n",
       "        [0., 0., 1., 1., 4., 3., 1., 0., 0., 0.],\n",
       "        [0., 0., 3., 0., 2., 1., 2., 1., 1., 0.],\n",
       "        [1., 1., 1., 2., 1., 3., 0., 1., 0., 0.],\n",
       "        [0., 0., 0., 1., 3., 2., 3., 0., 1., 0.],\n",
       "        [0., 1., 1., 0., 3., 3., 1., 0., 0., 1.],\n",
       "        [0., 0., 1., 1., 2., 0., 4., 2., 0., 0.],\n",
       "        [0., 0., 0., 1., 4., 1., 2., 1., 1., 0.],\n",
       "        [0., 1., 1., 0., 2., 2., 3., 0., 0., 1.],\n",
       "        [1., 0., 1., 2., 0., 3., 1., 2., 0., 0.]]),\n",
       " array([-5.89191667, -4.83434733, -3.776778  , -2.71920867, -1.66163934,\n",
       "        -0.60407001,  0.45349932,  1.51106865,  2.56863798,  3.62620731,\n",
       "         4.68377664]),\n",
       " <a list of 10 Lists of Patches objects>)"
      ]
     },
     "execution_count": 102,
     "metadata": {},
     "output_type": "execute_result"
    },
    {
     "data": {
      "image/png": "[encoded data removed]",
      "text/plain": [
       "<Figure size 432x288 with 1 Axes>"
      ]
     },
     "metadata": {
      "needs_background": "light"
     },
     "output_type": "display_data"
    }
   ],
   "source": [
    "plt.hist(s) # displaying the histogram of the samples"
   ]
  },
  {
   "cell_type": "code",
   "execution_count": null,
   "metadata": {},
   "outputs": [],
   "source": []
  },
  {
   "cell_type": "code",
   "execution_count": null,
   "metadata": {},
   "outputs": [],
   "source": []
  },
  {
   "cell_type": "code",
   "execution_count": null,
   "metadata": {},
   "outputs": [],
   "source": []
  },
  {
   "cell_type": "code",
   "execution_count": null,
   "metadata": {},
   "outputs": [],
   "source": []
  },
  {
   "cell_type": "code",
   "execution_count": null,
   "metadata": {},
   "outputs": [],
   "source": []
  },
  {
   "cell_type": "code",
   "execution_count": null,
   "metadata": {},
   "outputs": [],
   "source": []
  },
  {
   "cell_type": "code",
   "execution_count": null,
   "metadata": {},
   "outputs": [],
   "source": []
  },
  {
   "cell_type": "code",
   "execution_count": null,
   "metadata": {},
   "outputs": [],
   "source": []
  },
  {
   "cell_type": "code",
   "execution_count": null,
   "metadata": {},
   "outputs": [],
   "source": []
  },
  {
   "cell_type": "markdown",
   "metadata": {},
   "source": [
    "#### 1. What is the overall purpose of the package?"
   ]
  },
  {
   "cell_type": "markdown",
   "metadata": {},
   "source": [
    "#### 2. Explaining the use of the “Simple random data” and “Permutations” functions.\n"
   ]
  },
  {
   "cell_type": "markdown",
   "metadata": {},
   "source": [
    "#### 3. Explaining the use and purpose of at least five “Distributions” functions."
   ]
  },
  {
   "cell_type": "markdown",
   "metadata": {},
   "source": [
    "#### 4. Explaining the use of seeds in generating pseudorandom numbers."
   ]
  },
  {
   "cell_type": "markdown",
   "metadata": {},
   "source": [
    "### Other References"
   ]
  },
  {
   "cell_type": "markdown",
   "metadata": {},
   "source": []
  },
  {
   "cell_type": "markdown",
   "metadata": {},
   "source": []
  },
  {
   "cell_type": "markdown",
   "metadata": {},
   "source": []
  },
  {
   "cell_type": "code",
   "execution_count": null,
   "metadata": {},
   "outputs": [],
   "source": []
  }
 ],
 "metadata": {
  "kernelspec": {
   "display_name": "Python 3",
   "language": "python",
   "name": "python3"
  },
  "language_info": {
   "codemirror_mode": {
    "name": "ipython",
    "version": 3
   },
   "file_extension": ".py",
   "mimetype": "text/x-python",
   "name": "python",
   "nbconvert_exporter": "python",
   "pygments_lexer": "ipython3",
   "version": "3.8.3"
  }
 },
 "nbformat": 4,
 "nbformat_minor": 4
}
