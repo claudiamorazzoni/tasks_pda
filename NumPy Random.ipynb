{
 "cells": [
  {
   "cell_type": "markdown",
   "metadata": {},
   "source": [
    "##### This task aims to get to know the numpy.random package in Python. Below you will see my solutions to the Tasks assessment. The autor is Claudia Morazzoni (G00387828@gmit.ie)"
   ]
  },
  {
   "cell_type": "markdown",
   "metadata": {},
   "source": [
    "### First, let's understand the NumPy library"
   ]
  },
  {
   "cell_type": "markdown",
   "metadata": {},
   "source": [
    "Before getting started let me introduce you [NumPy](https://numpy.org/devdocs/user/whatisnumpy.html). Numpy is a powerful Python library that is mainly used to perform calculations (including linear algebra) on multidimensional arrays. It is a library developed in C and, therefore, the manipulation and treatment of data become fast. These types of numerical calculations are widely used in tasks such as:\n",
    "\n",
    "- __Machine Learning Models:__ When writing Machine Learning algorithms, it is assumed that several numerical calculations are performed in Array. For example, multiplication of Arrays, transposition, addition, etc. \n",
    "&nbsp;\n",
    "- __Image Processing and Computer Graphics:__ Images on the computer are represented as Multidimensional Arrays of numbers. NumPy, in fact, provides some excellent library functions for quick image manipulation. Some examples are mirroring an image, rotating an image by a certain angle, etc.\n",
    "&nbsp;\n",
    "- __Mathematical tasks:__ NumPy is very useful to perform various mathematical tasks such as numerical integration, differentiation, interpolation, extrapolation and many others. NumPy also has built-in functions for linear algebra and generation of random numbers. "
   ]
  },
  {
   "cell_type": "markdown",
   "metadata": {},
   "source": [
    "<table>\n",
    "  <tr>\n",
    "    <td style=\"text-align: center; vertical-align: middle;\">Matrix Addition</td>\n",
    "     <td style=\"text-align: center; vertical-align: middle;\">Geometric Transformation</td>\n",
    "     <td style=\"text-align: center; vertical-align: middle;\">Linear Algebra</td>\n",
    "  </tr>\n",
    "  <tr>\n",
    "    <td>\n",
    "        <a href=\"https://codeforwin.org/2017/12/c-program-add-two-matrix-using-pointers.html\">\n",
    "            <img src=\"Images/matrix.png\" width=150 height=480></td>\n",
    "        </a>\n",
    "    <td>\n",
    "        <a href=\"https://towardsdatascience.com/image-geometric-transformation-in-numpy-and-opencv-936f5cd1d315\">\n",
    "            <img src=\"Images/geometrictransformation.png\" width=150 height=480></td>\n",
    "        </a>\n",
    "    <td>\n",
    "        <a href=\"https://en.wikipedia.org/wiki/Linear_algebra\">\n",
    "            <img src=\"Images/linearalgebra.png\" width=150 height=480></td>\n",
    "        </a>\n",
    "  </tr>\n",
    " </table>"
   ]
  },
  {
   "cell_type": "markdown",
   "metadata": {},
   "source": [
    "### Finally Numpy Random"
   ]
  },
  {
   "cell_type": "markdown",
   "metadata": {},
   "source": [
    "NumPy has a sub-module called random that has several functions to generate random numbers (pseudo). Although Python has a standard library also called random, the NumPy library has more functionality and generates sample values ​​from various types of probability distributions.\n",
    "\n"
   ]
  },
  {
   "cell_type": "markdown",
   "metadata": {},
   "source": [
    "A random number is a number that logic was not used to reach. It is not possible to determine how this value was designed. However, it also does not mean a new number every time the program is run. It just means that the logic for reaching that number is unknown. Or that the variables involved in the process are incalculable.\n",
    "Most programs that generate [random numbers](https://en.wikipedia.org/wiki/Random_number_generation#Computational_methods) use specific algorithms to generate those numbers. And if there is an algorithm behind that number, it is possible to predict what the “random” number will be, so we can call these numbers pseudo-random."
   ]
  },
  {
   "cell_type": "markdown",
   "metadata": {},
   "source": [
    "### Simple random data"
   ]
  },
  {
   "cell_type": "markdown",
   "metadata": {},
   "source": [
    "Here we will generate a certain number of elements that are taken from a population at random. It is important to clarify, however, that all these elements are equally likely to be selected for the sample. We will use the [__randint__](https://docs.scipy.org/doc/numpy-1.15.0/reference/generated/numpy.random.randint.html#numpy.random.randint) method (interger numbers) and the [__rand__](https://docs.scipy.org/doc/numpy-1.15.0/reference/generated/numpy.random.rand.html#numpy.random.rand) method (floating numbers)"
   ]
  },
  {
   "cell_type": "code",
   "execution_count": 43,
   "metadata": {},
   "outputs": [],
   "source": [
    "# To generate pseudo-random numbers we use the random module.\n",
    "from numpy import random"
   ]
  },
  {
   "cell_type": "code",
   "execution_count": 31,
   "metadata": {},
   "outputs": [
    {
     "data": {
      "text/plain": [
       "72"
      ]
     },
     "execution_count": 31,
     "metadata": {},
     "output_type": "execute_result"
    }
   ],
   "source": [
    "# The variable x will receive a random integer between 0 and 100\n",
    "x = random.randint(100) \n",
    "x"
   ]
  },
  {
   "cell_type": "code",
   "execution_count": 32,
   "metadata": {},
   "outputs": [
    {
     "data": {
      "text/plain": [
       "0.018833986897602295"
      ]
     },
     "execution_count": 32,
     "metadata": {},
     "output_type": "execute_result"
    }
   ],
   "source": [
    "# The rand method returns a random number with a floating point between 0 and 1\n",
    "x = random.rand()\n",
    "x"
   ]
  },
  {
   "cell_type": "markdown",
   "metadata": {},
   "source": [
    "##### Arrays"
   ]
  },
  {
   "cell_type": "markdown",
   "metadata": {},
   "source": [
    "If we pass the size parameter in the same __randint__ function we will create an array. The size parameter determines the number of random numbers that must be generated."
   ]
  },
  {
   "cell_type": "code",
   "execution_count": 33,
   "metadata": {},
   "outputs": [
    {
     "data": {
      "text/plain": [
       "array([66, 20, 26, 83, 31, 34])"
      ]
     },
     "execution_count": 33,
     "metadata": {},
     "output_type": "execute_result"
    }
   ],
   "source": [
    "# Here it will result in a list with six random numbers, between 0 and 100.\n",
    "x = random.randint(100, size=(6))\n",
    "x"
   ]
  },
  {
   "cell_type": "markdown",
   "metadata": {},
   "source": [
    "Inserting the number of random numbers that you want for the __rand__ method, the result will be a list with the number of numbers informed."
   ]
  },
  {
   "cell_type": "code",
   "execution_count": 44,
   "metadata": {},
   "outputs": [
    {
     "data": {
      "text/plain": [
       "array([0.87285967, 0.24475193, 0.85473176, 0.45264799, 0.52940428,\n",
       "       0.95800031, 0.26072564, 0.04771479, 0.77436836, 0.95594799])"
      ]
     },
     "execution_count": 44,
     "metadata": {},
     "output_type": "execute_result"
    }
   ],
   "source": [
    "# The rand method with parameters returns a random number matrix with a floating point between 0 and 1\n",
    "x = random.rand(10)\n",
    "x"
   ]
  },
  {
   "cell_type": "markdown",
   "metadata": {},
   "source": [
    "If it is necessary to choose a random number from a finite number of possibilities, the [__choice__](https://docs.scipy.org/doc/numpy-1.15.0/reference/generated/numpy.random.choice.html#numpy.random.choice) method can be used. For example, if you need to choose a random number between two, four, six, nine, and twelve. The choice method does this, it chooses a number among those informed."
   ]
  },
  {
   "cell_type": "code",
   "execution_count": 41,
   "metadata": {},
   "outputs": [
    {
     "data": {
      "text/plain": [
       "2"
      ]
     },
     "execution_count": 41,
     "metadata": {},
     "output_type": "execute_result"
    }
   ],
   "source": [
    "# Generates a random sample from a given 1-D array\n",
    "x = random.choice([2, 4, 6, 9, 12])\n",
    "x"
   ]
  },
  {
   "cell_type": "markdown",
   "metadata": {},
   "source": [
    "Now let's imagine that we need to create a list with random values, but that we need certain numbers to appear more often than others. This type of list is widely used with data science and statistics. The random module has methods that allow you to create lists with numbers that will appear more often in the matrix than others, at random. The distribution of the elements in the matrix would have a greater or lesser density of a certain number, according to its probability. For example, if you want sixty percent of the numbers in a list to be number two. The probability of leaving the number two must be 0.6. And if you don't want a number to appear in the list, just set your probability to zero.\n",
    "\n",
    "The method we are going to use to create this list is the choice method. The only difference from the previous examples is the addition of the probability parameter p. The greater the probability, the greater the chance that it will be drawn."
   ]
  },
  {
   "cell_type": "code",
   "execution_count": 42,
   "metadata": {},
   "outputs": [
    {
     "data": {
      "text/plain": [
       "array([9, 9, 9, 6, 6, 9, 6, 9, 6, 9, 6, 6, 9, 9, 2, 2, 2, 6, 6, 6, 9, 6,\n",
       "       9, 2, 6, 2, 6, 2, 2, 9, 2, 6, 2, 9, 6, 6, 6, 6, 2, 9, 2, 2, 2, 9,\n",
       "       6, 6, 9, 6, 9, 9, 9, 9, 9, 2, 9, 9, 9, 6, 6, 6, 9, 6, 9, 2, 6, 9,\n",
       "       2, 9, 6, 9, 2, 9, 6, 2, 9, 9, 9, 9, 9, 6, 6, 6, 9, 2, 2, 9, 2, 2,\n",
       "       9, 9, 9, 2, 9, 6, 6, 6, 9, 9, 6, 9])"
      ]
     },
     "execution_count": 42,
     "metadata": {},
     "output_type": "execute_result"
    }
   ],
   "source": [
    "# The \"p\" parameter receives a list with the probability that each number will be “drawn”.\n",
    "x = random.choice([2, 4, 6, 9], p=[0.2, 0.0, 0.3, 0.5], size=(100))\n",
    "x"
   ]
  },
  {
   "cell_type": "markdown",
   "metadata": {},
   "source": [
    "In the example above, number two has a twenty percent chance of being drawn with each new number. But that does not mean that twenty percent of the numbers drawn will be number two."
   ]
  },
  {
   "cell_type": "markdown",
   "metadata": {},
   "source": [
    "### Permutation of an array"
   ]
  },
  {
   "cell_type": "markdown",
   "metadata": {},
   "source": [
    "The numpy library has two methods for exchanging: [__shuffle__](https://docs.scipy.org/doc/numpy-1.15.0/reference/generated/numpy.random.shuffle.html#numpy.random.shuffle) and [__permutation__](https://docs.scipy.org/doc/numpy-1.15.0/reference/generated/numpy.random.permutation.html#numpy.random.permutation) method. The shuffler method shuffles the elements of the past matrix as an argument and the permutation method returns a new matrix, leaving the original intact."
   ]
  },
  {
   "cell_type": "code",
   "execution_count": 36,
   "metadata": {},
   "outputs": [],
   "source": [
    "# To generate random array we use the numpy library.\n",
    "import numpy as np"
   ]
  },
  {
   "cell_type": "code",
   "execution_count": 38,
   "metadata": {},
   "outputs": [
    {
     "data": {
      "text/plain": [
       "array([4, 2, 5, 3, 1])"
      ]
     },
     "execution_count": 38,
     "metadata": {},
     "output_type": "execute_result"
    }
   ],
   "source": [
    "array = np.array([1, 2, 3, 4, 5])\n",
    "# The array \"array\" is changed\n",
    "random.shuffle(array)\n",
    "array"
   ]
  },
  {
   "cell_type": "code",
   "execution_count": 40,
   "metadata": {},
   "outputs": [
    {
     "name": "stdout",
     "output_type": "stream",
     "text": [
      "[5 2 3 1 4]\n",
      "[1 2 3 4 5]\n"
     ]
    },
    {
     "data": {
      "text/plain": [
       "array([1, 2, 3, 4, 5])"
      ]
     },
     "execution_count": 40,
     "metadata": {},
     "output_type": "execute_result"
    }
   ],
   "source": [
    "array = np.array([1, 2, 3, 4, 5])\n",
    "\n",
    "# The array \"array\" is not changed\n",
    "print(random.permutation(array))\n",
    "print(array)\n",
    "array"
   ]
  },
  {
   "cell_type": "markdown",
   "metadata": {},
   "source": [
    "### Distributions"
   ]
  },
  {
   "cell_type": "markdown",
   "metadata": {},
   "source": [
    "In [statistics](https://www8.cs.umu.se/kursmaterial/ws-python-scientific-computing/s3l06b/index.html), the concept of form of [distribution](https://en.wikipedia.org/wiki/Probability_distribution) refers to the form of the probability distribution and it describes the random behavior of a phenomenon. A statistical distribution is a function that defines a curve, and the area under that curve determines the probability of the event that it correlates to occur.\n",
    "Below, five of them will be presented."
   ]
  },
  {
   "cell_type": "markdown",
   "metadata": {},
   "source": [
    "#### Normal Distribution"
   ]
  },
  {
   "cell_type": "markdown",
   "metadata": {},
   "source": [
    "We can obtain an array of random samples from the [normal distribution](https://numpy.org/doc/stable/reference/random/generated/numpy.random.Generator.normal.html#numpy.random.Generator.normal) through the Numpy function (np) random.normal where it will show us a symmetrical curve around its midpoint, presenting us the famous bell shape."
   ]
  },
  {
   "cell_type": "code",
   "execution_count": 4,
   "metadata": {},
   "outputs": [],
   "source": [
    "import numpy as np\n",
    "import matplotlib.pyplot as plt"
   ]
  },
  {
   "cell_type": "code",
   "execution_count": 5,
   "metadata": {},
   "outputs": [
    {
     "data": {
      "text/plain": [
       "array([-7.98943875e-02, -2.09725341e-01,  1.45738407e+00,  2.39024057e-01,\n",
       "        3.80144275e-01,  4.11505935e-01, -2.36310102e-01,  4.07674758e-01,\n",
       "        1.12307249e+00,  9.45018365e-01, -1.87761483e+00, -1.69048668e+00,\n",
       "        9.65966729e-03,  1.46219680e-01, -2.34674306e-01,  2.32753173e+00,\n",
       "        1.02387973e+00,  1.76836623e+00,  3.99317419e-01,  4.77994354e-01,\n",
       "       -3.17676219e-01, -6.58437031e-01,  8.48720792e-01,  9.32981044e-02,\n",
       "       -2.47537815e+00, -2.19930268e-01,  1.00158947e+00,  1.12244642e+00,\n",
       "        2.56885070e-01,  2.20560783e-02,  1.05854186e+00, -9.89156475e-01,\n",
       "        1.26916417e+00, -3.12671338e-01, -1.28508759e-01,  2.60346619e-01,\n",
       "        2.42608848e-01,  1.04231556e+00,  3.78470753e-01,  1.09759104e+00,\n",
       "        4.61545066e-02,  1.66127193e+00, -4.61393847e-01, -3.01611615e-01,\n",
       "        4.81333566e-01, -6.33327820e-01,  3.71773147e-01,  1.06037209e+00,\n",
       "        7.77238353e-01, -1.80282017e+00, -7.39467480e-01,  1.90228715e-01,\n",
       "       -1.16374221e-01,  1.42261379e+00,  8.39026755e-01, -1.23789346e+00,\n",
       "        1.18674333e+00, -1.36567267e+00, -1.04265126e+00,  1.23490480e-02,\n",
       "        1.26783255e+00,  7.55738956e-01, -7.94330654e-02, -1.04929987e+00,\n",
       "       -1.76074632e+00, -1.01980097e+00, -9.84363295e-01,  1.03942574e+00,\n",
       "       -2.52840354e-01, -1.45723785e+00,  1.15528934e+00,  1.68655959e-01,\n",
       "        6.44916076e-01,  4.54532096e-01,  8.38210730e-01, -4.64786768e-01,\n",
       "       -1.49413862e+00,  9.44333543e-01, -5.41287968e-01, -1.32991938e+00,\n",
       "        1.28581072e+00, -7.75195334e-01, -1.23828396e+00,  2.23315573e+00,\n",
       "        1.25323547e-01, -1.19767011e-01,  6.65307630e-01, -8.83076541e-01,\n",
       "       -4.20633873e-01, -2.60115676e+00,  2.86227930e-01,  6.07424028e-01,\n",
       "       -5.62579486e-01,  5.06279756e-01,  1.03173746e+00, -6.71136614e-01,\n",
       "       -8.07855193e-01, -8.90035695e-01, -3.92049330e-01, -1.40635721e-01,\n",
       "        8.52921531e-01,  5.48909666e-01, -3.57269388e-01, -5.61744704e-01,\n",
       "       -1.67811754e+00, -2.61465624e+00, -6.53836367e-01, -4.75106515e-01,\n",
       "       -3.17593666e-01,  1.00316136e+00, -9.85808345e-02, -2.33955259e+00,\n",
       "       -1.15932646e+00, -6.70482315e-01, -2.01356973e-01,  7.27283026e-01,\n",
       "        8.94148024e-01, -4.05657297e-01, -8.96976661e-02, -1.15746151e+00,\n",
       "       -4.72649894e-02, -2.17259267e+00,  7.58144691e-01,  1.47159138e+00,\n",
       "       -1.51324878e+00,  2.31834983e-02, -1.36304701e-01,  2.11717161e+00,\n",
       "       -3.17345492e+00,  6.96680591e-02, -1.61195469e+00, -6.21085487e-01,\n",
       "        1.28809404e+00,  1.18278707e+00, -1.47881771e-01, -6.03882201e-01,\n",
       "        1.47045877e-01, -6.17653009e-01, -6.65423974e-01, -1.01000580e+00,\n",
       "       -2.04455229e+00, -1.04137126e+00, -1.41602313e+00,  9.50242334e-01,\n",
       "       -2.90521488e-01, -8.50072106e-01, -1.64844688e+00, -3.71022202e-01,\n",
       "        1.57306934e+00, -1.41962821e+00, -2.85282613e-01, -1.33962794e+00,\n",
       "        8.77747291e-01,  1.89161594e-01, -1.30055275e-01, -1.30550338e-01,\n",
       "       -1.19873810e+00, -3.27428364e-01, -1.15686514e+00, -1.49255635e+00,\n",
       "        1.35084702e+00,  1.65812326e-02,  8.86377436e-01, -1.71691433e+00,\n",
       "        9.52150099e-01, -9.14830661e-01,  5.87485256e-01, -2.49658362e-02,\n",
       "        1.71318566e+00, -2.38759690e+00, -3.76683951e-01, -7.61709795e-01,\n",
       "       -4.18488748e-01,  1.71033036e-01,  6.04287982e-02, -3.08221035e-01,\n",
       "        3.75701644e-01, -1.37894409e+00,  3.88266884e-01, -1.33833667e+00,\n",
       "        7.54759631e-01,  1.49077105e+00,  2.71186108e-01,  3.78546701e-01,\n",
       "        2.06459837e-01,  2.33707574e+00, -1.26496848e-01,  1.46255630e+00,\n",
       "       -1.07776949e-01,  3.23587667e-01,  4.68339794e-01, -7.72540587e-01,\n",
       "       -1.30843512e+00, -4.56709304e-01, -1.11822698e+00,  1.56371981e-01,\n",
       "        1.38325944e-02,  4.61233896e-01,  5.88317426e-01,  1.21465803e+00,\n",
       "        1.16907530e+00,  2.35168221e-01, -1.50873438e+00, -1.00236448e-01,\n",
       "        1.63737156e+00,  1.57505222e-01,  1.15957336e+00,  9.19319346e-01,\n",
       "        6.99812847e-02,  1.11299467e+00,  1.20482656e+00, -8.59885185e-01,\n",
       "       -2.06753430e-01, -1.08373745e+00, -5.93887479e-01,  1.69920470e+00,\n",
       "       -2.57589932e-01,  2.42171211e-01,  5.00573788e-01,  6.92697677e-01,\n",
       "       -5.10736441e-02, -2.70805390e-01, -3.85089616e-02,  1.55554925e+00,\n",
       "       -1.24597374e+00,  3.47690366e-01,  1.09280694e+00,  2.95394299e-01,\n",
       "        1.00010230e+00, -7.43312769e-01,  9.48279024e-01, -7.36110687e-01,\n",
       "       -1.72106745e+00, -2.84347870e-01,  4.34757593e-01,  3.95453110e-01,\n",
       "        1.60336147e+00,  3.12645220e-01, -3.58065018e-01, -5.09118166e-01,\n",
       "        8.48106179e-01, -6.51778125e-01, -2.29037138e+00, -3.42382901e-01,\n",
       "       -1.03220026e+00, -6.30658794e-01,  2.59414009e-01, -1.06087577e+00,\n",
       "        1.85675589e-01,  4.28258690e-04, -4.89296598e-01, -1.36111334e-02,\n",
       "       -7.25830911e-01, -1.93389444e+00,  3.60753963e-01,  5.53067717e-01,\n",
       "       -4.16411880e-01,  9.35086707e-01, -1.52588988e+00,  5.19870698e-01,\n",
       "        4.25160921e-02,  1.11732804e+00, -9.08458381e-01,  7.52897633e-01,\n",
       "        1.87975074e-01, -1.57944923e+00,  7.23717539e-01, -1.14021339e+00,\n",
       "        1.16086961e+00,  5.73546983e-02,  2.68430894e-01, -1.45829890e-01,\n",
       "       -1.31926949e-01, -1.62497034e+00,  1.00882598e+00,  3.28099811e-01,\n",
       "        1.78941578e+00, -1.46540618e+00,  7.96499804e-01, -1.12275660e+00,\n",
       "       -8.38987360e-03,  4.18770908e-01,  6.64873202e-01,  1.09196886e+00,\n",
       "       -1.39012942e+00, -3.51835289e-01,  5.67753367e-01,  4.80567235e-01,\n",
       "        2.03201085e+00,  7.24581042e-01,  2.26150200e-01, -7.44494257e-01,\n",
       "        2.79125978e-01,  8.64158211e-01, -1.10701650e+00,  1.12079966e-01,\n",
       "        8.25898175e-01, -8.88789366e-01, -1.21202122e+00, -1.85288193e+00,\n",
       "        8.15086646e-01,  1.76651842e+00, -3.57088474e-01, -1.21084748e+00,\n",
       "        1.00241510e+00,  9.38309117e-01,  1.16480543e+00,  6.76543568e-03,\n",
       "       -4.44198113e-01,  1.53668131e+00, -9.60574973e-03, -1.84840597e+00,\n",
       "        3.18243189e-01,  7.30874848e-01, -2.69125892e-01,  4.73040567e-01,\n",
       "        1.57966265e+00,  2.30077861e-01, -2.06438343e+00, -2.17749999e-01,\n",
       "        3.76066321e-01, -1.06389844e+00, -1.50997723e+00,  5.09848382e-01,\n",
       "       -6.47543370e-01,  1.83687569e+00, -5.72572562e-01,  1.32419761e+00,\n",
       "       -9.87959252e-01,  2.23721126e-01, -2.06398510e-03,  6.03822235e-01,\n",
       "       -1.94598629e-01,  2.22246404e-01,  1.01530512e+00,  1.50934434e+00,\n",
       "       -5.03549637e-01, -1.19191852e+00,  1.11276157e+00,  1.73514276e+00,\n",
       "       -1.35030461e+00,  3.80415995e-02, -8.81644341e-01, -1.07773754e+00,\n",
       "       -6.04252502e-01,  9.82042804e-02,  3.77622801e-01,  1.53817404e-02,\n",
       "       -5.64301322e-02,  9.07145570e-01,  1.02881042e+00,  5.66825186e-01,\n",
       "       -7.69327510e-01, -1.75425862e-01,  1.96719235e+00,  2.76748297e-01,\n",
       "        2.09022550e+00,  5.32432692e-02,  1.03907881e+00, -2.49313037e-02,\n",
       "        5.76379193e-01, -4.50544225e-01, -1.60384869e+00,  1.05879902e+00,\n",
       "        3.52933036e-01, -1.08298254e-01,  1.18376051e+00, -1.69726777e+00,\n",
       "       -3.55791705e-01, -2.14128517e-01, -3.88939294e-01,  6.57239327e-01,\n",
       "       -1.43060713e+00, -2.02795007e+00, -5.78513705e-02,  6.16880506e-01,\n",
       "       -6.09387936e-01,  4.01024032e-01, -3.43607606e-01, -1.10100604e+00,\n",
       "        5.14148567e-01, -1.26572201e+00, -2.66837034e-01,  2.22129236e-01,\n",
       "        7.75476007e-01, -7.71388009e-01,  3.26631984e+00, -1.48754692e+00,\n",
       "       -1.70265396e+00, -8.74609832e-02, -5.77294716e-01, -1.75562359e-01,\n",
       "        3.24330584e-01,  4.48919012e-01, -5.80746616e-01,  1.26689291e+00,\n",
       "       -1.42602647e-01,  1.49261077e-01,  6.03702103e-02, -1.38073832e-01,\n",
       "        3.80400694e-01, -2.87737641e-01,  1.16300328e+00,  1.86727899e+00,\n",
       "        5.33892818e-01, -2.18887484e-01,  8.21301536e-01, -5.50149989e-01,\n",
       "        2.13915111e-01,  1.13164989e+00, -8.49531786e-02,  4.59001192e-01,\n",
       "       -9.31678911e-01,  1.37456784e+00, -1.12343400e+00, -3.91532558e-01,\n",
       "       -2.07611460e-01, -1.16313627e+00,  6.11003880e-01,  1.48601107e+00,\n",
       "       -9.56257555e-01,  9.33989211e-01, -7.59378624e-01, -1.90334148e-01,\n",
       "       -7.61912148e-02,  9.86943190e-01,  8.58154948e-01,  4.20248342e-01,\n",
       "       -1.77541239e+00, -1.12420555e+00, -3.98556610e-01, -1.38066457e+00,\n",
       "       -2.69715156e+00, -1.00969502e+00,  9.33979563e-01,  8.46221459e-01,\n",
       "        8.04462518e-02,  2.89911807e-01,  9.43482294e-01,  3.19507779e-01,\n",
       "       -3.08351802e-01,  6.38175304e-01, -9.96928345e-01,  1.16546015e+00,\n",
       "        4.34359575e-01,  1.05887359e+00, -1.58456234e+00, -4.02567844e-01,\n",
       "       -4.63346206e-01, -5.78910344e-01, -9.93746628e-01,  7.10896471e-01,\n",
       "        9.82287519e-01,  7.01224703e-04, -1.09647767e+00,  9.89000221e-01,\n",
       "       -5.43677642e-01,  1.48261260e+00,  1.19700045e-01, -7.55056534e-01,\n",
       "       -2.53842181e+00, -2.36301334e-01, -1.44028989e+00,  1.48950773e+00,\n",
       "        2.02141204e+00, -1.29677696e+00,  1.86973147e+00,  2.08755626e+00,\n",
       "        1.66780772e-01, -3.99285756e-01, -1.42562141e+00, -8.38004853e-02,\n",
       "        1.17472345e+00, -2.24697717e+00, -2.16938562e+00, -1.25038803e+00,\n",
       "        9.40576028e-01, -8.35922273e-01,  1.91860496e+00,  1.37593059e-01,\n",
       "        5.13625571e-01,  1.05192328e+00, -4.18476695e-01, -1.40875244e-01,\n",
       "        4.35477244e-01, -1.89500487e+00,  3.92490291e-01,  8.95466477e-01,\n",
       "       -2.13273406e-01,  1.59663304e-01, -1.05524343e+00,  1.09246845e+00,\n",
       "        1.78622209e+00,  4.20376491e-01,  3.45513655e-01,  3.31064733e-01,\n",
       "        5.65868211e-01, -3.04231591e-01, -4.46615077e-01,  8.90671703e-01,\n",
       "       -1.21359917e+00, -5.35463625e-01,  1.51505448e+00, -1.41664421e+00,\n",
       "        1.15844210e+00,  1.42918798e+00,  1.16892006e+00,  1.81914566e-01,\n",
       "        6.37753544e-01, -2.23192241e-01, -1.36105564e+00,  4.59747067e-01,\n",
       "        1.73146722e+00,  1.94551226e+00, -1.27363758e+00,  5.27165126e-01,\n",
       "       -1.09337987e+00,  4.85291982e-01,  2.40586939e-01, -7.88068275e-01,\n",
       "        1.56194003e+00,  3.69018413e-01,  1.52997204e-01, -1.01990143e+00,\n",
       "        1.78610102e+00,  1.06938057e+00, -8.95901588e-01,  2.44283208e-01,\n",
       "       -4.79348102e-01, -1.22825275e+00, -1.39752738e+00,  9.96908579e-03,\n",
       "       -1.34411158e+00, -3.39004901e-01,  5.25631741e-01,  1.29876955e+00,\n",
       "       -1.79640876e-01,  5.41965220e-01, -3.16109106e-01, -7.74586362e-01,\n",
       "        1.59700916e+00, -9.80728809e-01,  9.48933669e-02, -7.01928800e-01,\n",
       "       -6.99899900e-02,  5.01241108e-01,  4.11302080e-01,  4.74695726e-02,\n",
       "       -6.47699108e-01, -7.90535715e-01,  1.74307394e+00,  9.49963899e-02,\n",
       "        6.39152493e-01,  6.44480739e-01, -9.50782279e-01, -7.64866562e-01,\n",
       "       -5.47951632e-01, -2.99419702e-01, -1.26751612e+00,  5.73530924e-01,\n",
       "        4.94688078e-01, -5.20512116e-01, -7.63269706e-02,  5.35298316e-01,\n",
       "        7.76237936e-01, -2.28003652e-01,  1.93725996e+00, -3.18746275e-01,\n",
       "        7.19641561e-01,  9.68057461e-01,  9.00936680e-01, -4.15613678e-01,\n",
       "        9.97294634e-01, -1.92326158e+00, -4.63405743e-01, -8.98101663e-01,\n",
       "       -1.01454407e+00,  9.79342885e-01, -1.43561794e+00,  4.17917383e-01,\n",
       "       -6.07878080e-01,  8.59683640e-01,  2.10002782e-01,  6.09475051e-01,\n",
       "        5.87405034e-01,  3.05654855e+00,  7.68142218e-01,  8.55972093e-01,\n",
       "       -1.27091045e+00,  5.78419080e-01, -1.09731580e+00,  2.92782799e-01,\n",
       "       -5.92865162e-01,  5.08049946e-01,  1.14322771e+00, -9.03506505e-02,\n",
       "        4.51501390e-02, -1.51780258e-01, -5.13629574e-01,  9.95129236e-01,\n",
       "        7.91847095e-01,  1.45628795e+00,  4.00398360e-01, -7.94700984e-01,\n",
       "        1.01602093e-01,  2.27846914e-01, -1.24818085e+00,  5.60947134e-01,\n",
       "       -6.13526850e-01, -9.95201936e-01, -1.45946256e+00, -3.73673554e-01,\n",
       "        1.95777816e-01,  1.52674909e-01,  1.03626407e+00, -1.62275629e-01,\n",
       "       -8.45881650e-02, -1.10176220e+00,  1.84611523e+00,  1.37912508e+00,\n",
       "        7.95546326e-02,  1.41279736e+00, -6.34739924e-01,  1.81547372e+00,\n",
       "        6.25886044e-01,  9.72222671e-01, -3.87386764e-01,  4.04335071e-02,\n",
       "       -1.12490545e+00, -2.13304912e+00, -4.71282635e-01, -2.52811530e-01,\n",
       "        1.58600786e+00,  3.42254059e-02,  1.24451966e-01,  1.92108411e-01,\n",
       "       -1.39068832e+00,  7.38429375e-01,  4.23526421e-01,  3.26522340e-01,\n",
       "        1.00526245e+00,  3.62078685e-01,  5.70364586e-01, -1.19724666e+00,\n",
       "       -3.65137913e-01, -1.44034380e-01,  1.61123023e+00,  1.35754376e-01,\n",
       "       -1.09204151e+00, -1.47749352e+00, -3.84020935e-01, -5.75374339e-01,\n",
       "        1.35075120e-01, -3.81273581e-01,  6.17856282e-01, -9.85392817e-01,\n",
       "        1.93045666e+00,  3.55691189e-01,  9.65233835e-01, -1.58385426e+00,\n",
       "       -2.54400154e-01, -1.29571621e+00, -1.11007106e+00, -1.49217199e+00,\n",
       "       -5.76861605e-02, -5.27746473e-04, -4.38367886e-01, -1.35190226e+00,\n",
       "        3.26063371e-01, -1.60634926e+00,  7.66623230e-01,  1.23244500e+00,\n",
       "       -3.61889143e-01, -4.89461499e-01, -1.12563275e+00,  1.97988145e+00,\n",
       "        3.83169133e-01,  5.43023292e-01,  1.33534047e+00,  8.30642787e-01,\n",
       "        1.15664926e+00, -5.21720918e-01,  5.00255381e-01, -1.22027598e+00,\n",
       "        7.93611689e-01,  5.88474498e-01, -5.96725768e-01, -3.48859340e-02,\n",
       "        1.50534807e+00,  1.18303719e+00,  1.16591349e+00,  1.84570687e+00,\n",
       "        1.18614809e+00,  1.76249551e-01,  1.14237216e+00, -4.59208056e-01,\n",
       "        1.02044868e+00,  1.12921321e+00,  1.72328257e-01, -6.54671472e-01,\n",
       "       -1.71086802e+00, -1.24032974e+00,  1.71775921e+00,  2.97193344e-01,\n",
       "        1.35115302e+00, -4.72402776e-01, -1.49661888e+00,  1.47438391e+00,\n",
       "       -5.73563152e-01,  4.85626020e-01, -1.43916126e-02,  6.91990421e-01,\n",
       "       -9.30029250e-01,  2.40032092e-01,  3.98718962e-02, -1.32687361e+00,\n",
       "       -2.13766541e+00, -2.03544130e-01, -6.11560572e-01, -1.55853293e-03,\n",
       "        1.89271572e+00,  1.25321835e+00, -8.98413239e-01, -1.49507480e+00,\n",
       "       -5.71402685e-01, -1.31485737e+00, -3.54241274e-01,  1.03808141e+00,\n",
       "        8.07247862e-01,  6.27819971e-01,  8.71704134e-01,  3.86422171e-01,\n",
       "        4.79482099e-01, -1.71763112e-01,  2.34980603e-02, -7.15614373e-01,\n",
       "        5.90514323e-01,  1.90158805e+00, -8.22332706e-01, -7.13533598e-01,\n",
       "       -1.01009485e+00, -5.28943823e-01, -6.94782033e-01, -1.20325457e+00,\n",
       "       -5.98108963e-01, -1.57681552e+00, -1.35477212e+00,  9.55024938e-02,\n",
       "        4.06662657e-01,  9.34072423e-01,  8.37928341e-01,  3.89434957e-02,\n",
       "        7.69472937e-01,  1.39754488e+00,  1.08475324e+00,  1.26100590e+00,\n",
       "        1.22949441e+00, -1.33606861e+00,  4.46720205e-01, -1.33010276e+00,\n",
       "       -8.74604330e-01, -7.37022295e-01,  9.41383545e-01,  3.94711927e-02,\n",
       "       -8.31554239e-01,  2.93334114e-01, -2.63214075e-01,  2.33265324e+00,\n",
       "        3.38717815e-01, -4.38252423e-01,  5.82025663e-01,  4.06996276e-01,\n",
       "        1.72894097e+00, -1.20777547e-01,  1.63198087e-01, -5.94697789e-01,\n",
       "        3.99280911e-01, -2.25565349e+00,  1.28456114e+00, -3.28539402e-01,\n",
       "       -1.67466748e+00, -2.16911535e-01, -1.15994234e+00, -5.09649064e-01,\n",
       "        1.57344288e+00, -1.26828118e+00,  1.36945094e+00,  1.31680293e-01,\n",
       "        1.29189344e+00,  4.82295054e-01, -1.18188625e+00, -1.83185998e-01,\n",
       "        6.55053312e-02, -6.48121705e-02,  1.27548971e-01,  1.95124489e+00,\n",
       "       -1.69011726e+00, -1.22717059e-01,  1.62538082e+00,  1.98081357e+00,\n",
       "        4.19672646e-01, -1.15338341e-01, -4.44026056e-01,  9.24277190e-01,\n",
       "        1.57487940e+00,  1.25714254e+00,  5.71575129e-01,  3.82289911e-01,\n",
       "        2.25941072e+00,  9.97545124e-01,  2.64670070e-02,  1.32101570e+00,\n",
       "       -2.59872060e+00, -5.21740953e-01, -1.10085599e+00, -7.77790757e-01,\n",
       "       -1.58437253e-01, -5.88589841e-02,  1.31224251e+00, -5.83882505e-01,\n",
       "       -2.11896430e+00, -9.16536233e-01, -1.14948520e+00,  1.90723544e-01,\n",
       "       -1.01889144e+00, -7.32871892e-01,  4.34730139e-01,  4.65352069e-01,\n",
       "       -2.24311135e-01, -8.21209122e-01, -1.45386749e+00,  4.52519881e-01,\n",
       "       -2.96971253e-01, -2.24805735e+00, -7.53185866e-01, -4.68911721e-01,\n",
       "       -3.64534842e-01,  7.17229337e-01,  6.04012900e-01,  3.10362353e-01,\n",
       "       -2.83155073e-01,  2.29742758e+00,  6.77881951e-01, -5.70693635e-01,\n",
       "        3.79083190e-01, -1.59270879e+00, -1.10572336e+00, -4.36553217e-01,\n",
       "        1.01799951e-01,  1.59265361e+00,  4.93496845e-01,  5.27546249e-01,\n",
       "       -7.66708807e-01,  6.31670254e-01,  1.30686159e+00,  1.46612791e+00,\n",
       "        1.12335974e+00, -5.42859062e-01,  3.52410817e-01,  1.31291764e-01,\n",
       "       -8.14505937e-01, -4.46758500e-01,  3.81065094e-01,  5.50912863e-01,\n",
       "       -2.02106860e+00,  8.94219902e-01,  3.05708026e-01,  5.15181820e-02,\n",
       "       -1.17013163e+00, -1.09502845e-01,  6.75616743e-01, -2.54776143e-01,\n",
       "       -1.33819874e+00,  1.59343794e+00,  9.48953234e-01, -1.00487606e+00,\n",
       "       -2.61059615e+00,  2.19896962e+00, -1.41065781e-01,  1.42518580e+00,\n",
       "       -4.52923396e-01, -1.31359482e-01,  4.64181015e-01, -5.96688304e-01,\n",
       "        5.70315089e-01,  6.65155321e-01,  7.43850237e-01,  1.96756057e+00,\n",
       "       -1.99201041e+00, -2.81664803e-01, -4.33202207e-01,  4.86276221e-01,\n",
       "        4.03893228e-01,  7.37406256e-01, -2.13610859e+00, -1.68151077e-01,\n",
       "       -2.00212929e-01,  6.88929913e-01,  1.81229860e-01,  7.82953711e-02,\n",
       "       -9.80258456e-01,  1.19760124e+00, -1.42799014e+00, -1.20409990e+00,\n",
       "        4.68081137e-01, -4.87640547e-01,  1.87966090e-01,  9.38485168e-02,\n",
       "       -9.20572293e-01,  2.15233100e+00, -6.64623349e-01, -1.44941140e-01,\n",
       "        6.09058115e-01,  4.73829969e-01, -1.09154917e+00,  3.44642569e-01,\n",
       "        1.03412358e+00,  9.48419981e-02, -1.07356776e+00, -2.77252127e-01,\n",
       "       -3.28672551e-01, -3.14378066e+00, -1.16402877e+00,  5.95396819e-01,\n",
       "       -8.36271823e-01, -1.61706131e+00,  1.39009558e+00,  1.00917660e+00,\n",
       "       -1.76482514e-01,  6.36429760e-01,  8.40237951e-01, -2.15572984e-01,\n",
       "        6.67181224e-01, -4.21464590e-01, -3.17711484e-01,  2.96133254e-01,\n",
       "        4.91934684e-01, -7.57350120e-01,  1.61283904e-01,  8.87578093e-01,\n",
       "        2.39654656e-01,  9.74159332e-01,  2.23591667e-01,  1.15424559e+00,\n",
       "        1.37685183e-01,  9.77080868e-02,  1.07812849e+00, -3.66765958e-02,\n",
       "        2.72610026e+00,  2.20215011e-01, -1.16620266e+00,  8.55811389e-01,\n",
       "        9.60839054e-01,  1.13681946e-01,  9.79554929e-01, -5.97694885e-01,\n",
       "        5.53893701e-01,  3.03338791e-01,  9.22129660e-01, -1.61713716e-01,\n",
       "        4.58540653e-01,  1.66548127e+00,  8.61312112e-02,  6.27566332e-01,\n",
       "        1.68884025e-01, -1.39607185e+00,  1.05100197e+00, -9.22673604e-01,\n",
       "       -1.65550708e-01, -2.06161806e+00,  1.31413020e+00,  4.44261812e-01,\n",
       "       -1.67221110e-01, -2.16242980e-02,  1.72751190e+00,  1.65896202e+00,\n",
       "        5.56570674e-01, -5.98132085e-01,  1.37267203e-01,  1.55543856e+00,\n",
       "       -2.38617208e-01, -9.45564385e-01, -1.31222974e+00,  1.52725541e+00,\n",
       "       -4.73604043e-01, -2.44829884e-01,  1.25724385e-02, -5.76853414e-01,\n",
       "       -3.69679893e-01, -1.45825356e+00, -6.86566773e-01,  1.17484811e+00,\n",
       "       -2.21174071e+00,  3.74117762e-01,  1.49261530e+00,  7.07583215e-01,\n",
       "        1.01340347e+00,  3.46188523e-01, -3.76905571e-01,  9.42077952e-01])"
      ]
     },
     "execution_count": 5,
     "metadata": {},
     "output_type": "execute_result"
    }
   ],
   "source": [
    "# One-by-thousand array of samples(One dimensional array)\n",
    "s=np.random.normal(loc=0, scale=1, size=(1000)) # extracting random samples of normal distribution according to the function presented in the documentation\n",
    "s"
   ]
  },
  {
   "cell_type": "code",
   "execution_count": 6,
   "metadata": {},
   "outputs": [
    {
     "data": {
      "text/plain": [
       "Text(0, 0.5, 'Frequency')"
      ]
     },
     "execution_count": 6,
     "metadata": {},
     "output_type": "execute_result"
    },
    {
     "data": {
      "image/png": "[encoded data removed]",
      "text/plain": [
       "<Figure size 432x288 with 1 Axes>"
      ]
     },
     "metadata": {
      "needs_background": "light"
     },
     "output_type": "display_data"
    }
   ],
   "source": [
    "# As previously chosen in the random.normal function, the largest concentration of random numbers is close to zero\n",
    "plt.hist(s) # displaying the histogram of the samples\n",
    "plt.title(\"Random Numbers\")\n",
    "plt.xlabel(\"Quantity\")\n",
    "plt.ylabel(\"Frequency\")\n"
   ]
  },
  {
   "cell_type": "markdown",
   "metadata": {},
   "source": [
    "#### Poison Distribution"
   ]
  },
  {
   "cell_type": "markdown",
   "metadata": {},
   "source": [
    "The [Poisson distribution](https://en.wikipedia.org/wiki/Poisson_distribution) allows us to trust the average time between the occurrence of different events. They cannot, however, tell us the exact moment when an event can occur\n",
    "\n",
    "&nbsp;\n",
    "\n",
    "To recognize a Poisson distribution, just look at the following three aspects: \n",
    "- The experiment calculates how many times an event occurs in a given time interval, area, volume, etc; \n",
    "- The probability of the event occurring is the same for each interval; \n",
    "- The number of occurrences in one range is independent of the other."
   ]
  },
  {
   "cell_type": "code",
   "execution_count": 7,
   "metadata": {},
   "outputs": [
    {
     "data": {
      "text/plain": [
       "array([ 7, 10,  4, ...,  4,  1,  5])"
      ]
     },
     "execution_count": 7,
     "metadata": {},
     "output_type": "execute_result"
    }
   ],
   "source": [
    "# Interval expectation (should be >= 0) for one hundred thousand samples\n",
    "s = np.random.poisson(5, 100000)\n",
    "s"
   ]
  },
  {
   "cell_type": "code",
   "execution_count": 14,
   "metadata": {},
   "outputs": [
    {
     "data": {
      "text/plain": [
       "Text(0, 0.5, 'Probability')"
      ]
     },
     "execution_count": 14,
     "metadata": {},
     "output_type": "execute_result"
    },
    {
     "data": {
      "image/png": "[encoded data removed]",
      "text/plain": [
       "<Figure size 432x288 with 1 Axes>"
      ]
     },
     "metadata": {
      "needs_background": "light"
     },
     "output_type": "display_data"
    }
   ],
   "source": [
    "# The histogram shows the number of events recorded in a series of 2.5 intervals. The data is simulated by drawing 100,000 random events from a Poisson distribution\n",
    "# Plot histogram\n",
    "plt.hist(s, align=\"left\", histtype=\"step\", color=\"black\")\n",
    "plt.title(\"Discrete Data\")\n",
    "plt.xlabel(\"Number of Events\")\n",
    "plt.ylabel(\"Probability\")"
   ]
  },
  {
   "cell_type": "code",
   "execution_count": null,
   "metadata": {},
   "outputs": [],
   "source": []
  },
  {
   "cell_type": "markdown",
   "metadata": {},
   "source": [
    "vnfdonblgfn"
   ]
  },
  {
   "cell_type": "markdown",
   "metadata": {},
   "source": []
  },
  {
   "cell_type": "code",
   "execution_count": null,
   "metadata": {},
   "outputs": [],
   "source": []
  },
  {
   "cell_type": "markdown",
   "metadata": {},
   "source": [
    "##### What seeds are in the generation of pseudo-random numbers?"
   ]
  },
  {
   "cell_type": "markdown",
   "metadata": {},
   "source": [
    "\n"
   ]
  },
  {
   "cell_type": "markdown",
   "metadata": {},
   "source": [
    "#### 3. Explaining the use and purpose of at least five “Distributions” functions."
   ]
  },
  {
   "cell_type": "markdown",
   "metadata": {},
   "source": [
    "#### 4. Explaining the use of seeds in generating pseudorandom numbers."
   ]
  },
  {
   "cell_type": "markdown",
   "metadata": {},
   "source": [
    "### Other References"
   ]
  },
  {
   "cell_type": "markdown",
   "metadata": {},
   "source": []
  },
  {
   "cell_type": "markdown",
   "metadata": {},
   "source": []
  },
  {
   "cell_type": "markdown",
   "metadata": {},
   "source": []
  },
  {
   "cell_type": "code",
   "execution_count": 3,
   "metadata": {},
   "outputs": [
    {
     "data": {
      "image/png": "[encoded data removed]",
      "text/plain": [
       "<Figure size 432x288 with 2 Axes>"
      ]
     },
     "metadata": {
      "needs_background": "light"
     },
     "output_type": "display_data"
    }
   ],
   "source": [
    "plt.subplot(1, 2, 1)\n",
    "x = np.random.normal(0.0, 1.0, 10000)\n",
    "plt.hist(x)\n",
    "\n",
    "plt.subplot(1, 2, 2)\n",
    "x = np.random.uniform(-3.0, 3.0, 10000)\n",
    "plt.hist(x)\n",
    "\n",
    "plt.show()"
   ]
  },
  {
   "cell_type": "code",
   "execution_count": 4,
   "metadata": {},
   "outputs": [
    {
     "data": {
      "image/png": "[encoded data removed]",
      "text/plain": [
       "<Figure size 432x288 with 1 Axes>"
      ]
     },
     "metadata": {
      "needs_background": "light"
     },
     "output_type": "display_data"
    }
   ],
   "source": [
    "x = np.arange(0.0, 10.0, 0.01)\n",
    "y = 3.0 * x + 1.0\n",
    "noise = np.random.normal(0.0, 1.0, len(x))\n",
    "\n",
    "plt.plot(x, y + noise, 'r.', label=\"Actual\")\n",
    "plt.plot(x, y, 'b-', label=\"Model\")\n",
    "\n",
    "plt.title(\"Simple plot\")\n",
    "plt.xlabel(\"Weight\")\n",
    "plt.ylabel(\"Mass\")\n",
    "plt.legend()\n",
    "\n",
    "plt.show()"
   ]
  },
  {
   "cell_type": "code",
   "execution_count": 5,
   "metadata": {},
   "outputs": [
    {
     "data": {
      "image/png": "[encoded data removed]",
      "text/plain": [
       "<Figure size 432x288 with 1 Axes>"
      ]
     },
     "metadata": {
      "needs_background": "light"
     },
     "output_type": "display_data"
    }
   ],
   "source": [
    "x = np.arange(1.0, 100.0, 0.1)\n",
    "\n",
    "plt.plot(x, x**2, 'g-', label=\"x^2\")\n",
    "plt.plot(x, x**3, 'b-', label=\"x^3\")\n",
    "plt.plot(x, x**4, 'r-', label=\"x^4\")\n",
    "plt.plot(x, 2**x, 'k-', label=\"2^x\")\n",
    "\n",
    "plt.legend()\n",
    "\n",
    "plt.show()"
   ]
  },
  {
   "cell_type": "code",
   "execution_count": 6,
   "metadata": {},
   "outputs": [
    {
     "data": {
      "image/png": "[encoded data removed]",
      "text/plain": [
       "<Figure size 432x288 with 1 Axes>"
      ]
     },
     "metadata": {
      "needs_background": "light"
     },
     "output_type": "display_data"
    }
   ],
   "source": [
    "x = np.random.uniform(0.0, 10.0, 100)\n",
    "y = np.random.uniform(0.0, 100.0, 100)\n",
    "z = np.random.normal(100.0, 40.0, 100)\n",
    "c = np.random.randint(0, 20, 100)\n",
    "\n",
    "plt.scatter(x, y, c=c, s=z)\n",
    "\n",
    "plt.show()"
   ]
  },
  {
   "cell_type": "code",
   "execution_count": 7,
   "metadata": {},
   "outputs": [
    {
     "data": {
      "image/png": "[encoded data removed]",
      "text/plain": [
       "<Figure size 432x288 with 1 Axes>"
      ]
     },
     "metadata": {
      "needs_background": "light"
     },
     "output_type": "display_data"
    }
   ],
   "source": [
    "x = np.arange(-2.0 * np.pi, 2.0 * np.pi, 0.1)\n",
    "\n",
    "plt.plot(x, np.sin(x), 'g.')\n",
    "plt.plot(x, np.cos(x), 'b.')\n",
    "\n",
    "plt.show()"
   ]
  },
  {
   "cell_type": "code",
   "execution_count": null,
   "metadata": {},
   "outputs": [],
   "source": []
  }
 ],
 "metadata": {
  "kernelspec": {
   "display_name": "Python 3",
   "language": "python",
   "name": "python3"
  },
  "language_info": {
   "codemirror_mode": {
    "name": "ipython",
    "version": 3
   },
   "file_extension": ".py",
   "mimetype": "text/x-python",
   "name": "python",
   "nbconvert_exporter": "python",
   "pygments_lexer": "ipython3",
   "version": "3.8.3"
  }
 },
 "nbformat": 4,
 "nbformat_minor": 4
}
