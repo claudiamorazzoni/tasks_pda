{
 "cells": [
  {
   "cell_type": "markdown",
   "metadata": {},
   "source": [
    "##### This task aims to get to know the numpy.random package in Python. Below you will see my solutions to the Tasks assessment. The autor is Claudia Morazzoni (G00387828@gmit.ie)"
   ]
  },
  {
   "cell_type": "markdown",
   "metadata": {},
   "source": [
    "### First, let's understand the NumPy library"
   ]
  },
  {
   "cell_type": "markdown",
   "metadata": {},
   "source": [
    "Before getting started let me introduce you [NumPy](https://numpy.org/devdocs/user/whatisnumpy.html). Numpy is a powerful Python library that is mainly used to perform calculations (including linear algebra) on multidimensional arrays. It is a library developed in C and, therefore, the manipulation and treatment of data become fast. These types of numerical calculations are widely used in tasks such as:\n",
    "\n",
    "- __Machine Learning Models:__ When writing Machine Learning algorithms, it is assumed that several numerical calculations are performed in Array. For example, multiplication of Arrays, transposition, addition, etc. \n",
    "&nbsp;\n",
    "- __Image Processing and Computer Graphics:__ Images on the computer are represented as Multidimensional Arrays of numbers. NumPy, in fact, provides some excellent library functions for quick image manipulation. Some examples are mirroring an image, rotating an image by a certain angle, etc.\n",
    "&nbsp;\n",
    "- __Mathematical tasks:__ NumPy is very useful to perform various mathematical tasks such as numerical integration, differentiation, interpolation, extrapolation and many others. NumPy also has built-in functions for linear algebra and generation of random numbers. "
   ]
  },
  {
   "cell_type": "markdown",
   "metadata": {},
   "source": [
    "<table>\n",
    "  <tr>\n",
    "    <td style=\"text-align: center; vertical-align: middle;\">Matrix Addition</td>\n",
    "     <td style=\"text-align: center; vertical-align: middle;\">Geometric Transformation</td>\n",
    "     <td style=\"text-align: center; vertical-align: middle;\">Linear Algebra</td>\n",
    "  </tr>\n",
    "  <tr>\n",
    "    <td>\n",
    "        <a href=\"https://codeforwin.org/2017/12/c-program-add-two-matrix-using-pointers.html\">\n",
    "            <img src=\"Images/matrix.png\" width=150 height=480></td>\n",
    "        </a>\n",
    "    <td>\n",
    "        <a href=\"https://towardsdatascience.com/image-geometric-transformation-in-numpy-and-opencv-936f5cd1d315\">\n",
    "            <img src=\"Images/geometrictransformation.png\" width=150 height=480></td>\n",
    "        </a>\n",
    "    <td>\n",
    "        <a href=\"https://en.wikipedia.org/wiki/Linear_algebra\">\n",
    "            <img src=\"Images/linearalgebra.png\" width=150 height=480></td>\n",
    "        </a>\n",
    "  </tr>\n",
    " </table>"
   ]
  },
  {
   "cell_type": "markdown",
   "metadata": {},
   "source": [
    "### Finally Numpy Random"
   ]
  },
  {
   "cell_type": "markdown",
   "metadata": {},
   "source": [
    "NumPy has a sub-module called random that has several functions to generate random numbers (pseudo). Although Python has a standard library also called random, the NumPy library has more functionality and generates sample values ​​from various types of probability distributions.\n",
    "\n"
   ]
  },
  {
   "cell_type": "markdown",
   "metadata": {},
   "source": [
    "A random number is a number that logic was not used to reach. It is not possible to determine how this value was designed. However, it also does not mean a new number every time the program is run. It just means that the logic for reaching that number is unknown. Or that the variables involved in the process are incalculable.\n",
    "Most programs that generate [random numbers](https://en.wikipedia.org/wiki/Random_number_generation#Computational_methods) use specific algorithms to generate those numbers. And if there is an algorithm behind that number, it is possible to predict what the “random” number will be, so we can call these numbers pseudo-random."
   ]
  },
  {
   "cell_type": "markdown",
   "metadata": {},
   "source": [
    "### Simple random data"
   ]
  },
  {
   "cell_type": "markdown",
   "metadata": {},
   "source": [
    "Here we will generate a certain number of elements that are taken from a population at random. It is important to clarify, however, that all these elements are equally likely to be selected for the sample. We will use the [__randint__](https://docs.scipy.org/doc/numpy-1.15.0/reference/generated/numpy.random.randint.html#numpy.random.randint) method (interger numbers) and the [__rand__](https://docs.scipy.org/doc/numpy-1.15.0/reference/generated/numpy.random.rand.html#numpy.random.rand) method (floating numbers)"
   ]
  },
  {
   "cell_type": "code",
   "execution_count": 1,
   "metadata": {},
   "outputs": [],
   "source": [
    "# To generate pseudo-random numbers we use the random module.\n",
    "from numpy import random"
   ]
  },
  {
   "cell_type": "code",
   "execution_count": 2,
   "metadata": {},
   "outputs": [
    {
     "data": {
      "text/plain": [
       "60"
      ]
     },
     "execution_count": 2,
     "metadata": {},
     "output_type": "execute_result"
    }
   ],
   "source": [
    "# The variable x will receive a random integer between 0 and 100\n",
    "x = random.randint(100) \n",
    "x"
   ]
  },
  {
   "cell_type": "code",
   "execution_count": 3,
   "metadata": {},
   "outputs": [
    {
     "data": {
      "text/plain": [
       "0.44087337611479527"
      ]
     },
     "execution_count": 3,
     "metadata": {},
     "output_type": "execute_result"
    }
   ],
   "source": [
    "# The rand method returns a random number with a floating point between 0 and 1\n",
    "x = random.rand()\n",
    "x"
   ]
  },
  {
   "cell_type": "markdown",
   "metadata": {},
   "source": [
    "##### Arrays"
   ]
  },
  {
   "cell_type": "markdown",
   "metadata": {},
   "source": [
    "If we pass the size parameter in the same __randint__ function we will create an array. The size parameter determines the number of random numbers that must be generated."
   ]
  },
  {
   "cell_type": "code",
   "execution_count": 4,
   "metadata": {},
   "outputs": [
    {
     "data": {
      "text/plain": [
       "array([72, 91, 80, 27, 50, 92])"
      ]
     },
     "execution_count": 4,
     "metadata": {},
     "output_type": "execute_result"
    }
   ],
   "source": [
    "# Here it will result in a list with six random numbers, between 0 and 100.\n",
    "x = random.randint(100, size=(6))\n",
    "x"
   ]
  },
  {
   "cell_type": "markdown",
   "metadata": {},
   "source": [
    "Inserting the number of random numbers that you want for the __rand__ method, the result will be a list with the number of numbers informed."
   ]
  },
  {
   "cell_type": "code",
   "execution_count": 5,
   "metadata": {},
   "outputs": [
    {
     "data": {
      "text/plain": [
       "array([0.39566204, 0.07916163, 0.58575054, 0.58215755, 0.0653723 ,\n",
       "       0.70666164, 0.10905602, 0.77500767, 0.58085001, 0.62472883])"
      ]
     },
     "execution_count": 5,
     "metadata": {},
     "output_type": "execute_result"
    }
   ],
   "source": [
    "# The rand method with parameters returns a random number matrix with a floating point between 0 and 1\n",
    "x = random.rand(10)\n",
    "x"
   ]
  },
  {
   "cell_type": "markdown",
   "metadata": {},
   "source": [
    "If it is necessary to choose a random number from a finite number of possibilities, the [__choice__](https://docs.scipy.org/doc/numpy-1.15.0/reference/generated/numpy.random.choice.html#numpy.random.choice) method can be used. For example, if you need to choose a random number between two, four, six, nine, and twelve. The choice method does this, it chooses a number among those informed."
   ]
  },
  {
   "cell_type": "code",
   "execution_count": 6,
   "metadata": {},
   "outputs": [
    {
     "data": {
      "text/plain": [
       "9"
      ]
     },
     "execution_count": 6,
     "metadata": {},
     "output_type": "execute_result"
    }
   ],
   "source": [
    "# Generates a random sample from a given 1-D array\n",
    "x = random.choice([2, 4, 6, 9, 12])\n",
    "x"
   ]
  },
  {
   "cell_type": "markdown",
   "metadata": {},
   "source": [
    "Now let's imagine that we need to create a list with random values, but that we need certain numbers to appear more often than others. This type of list is widely used with data science and statistics. The random module has methods that allow you to create lists with numbers that will appear more often in the matrix than others, at random. The distribution of the elements in the matrix would have a greater or lesser density of a certain number, according to its probability. For example, if you want sixty percent of the numbers in a list to be number two. The probability of leaving the number two must be 0.6. And if you don't want a number to appear in the list, just set your probability to zero.\n",
    "\n",
    "The method we are going to use to create this list is the choice method. The only difference from the previous examples is the addition of the probability parameter p. The greater the probability, the greater the chance that it will be drawn."
   ]
  },
  {
   "cell_type": "code",
   "execution_count": 7,
   "metadata": {},
   "outputs": [
    {
     "data": {
      "text/plain": [
       "array([2, 2, 6, 6, 9, 9, 9, 6, 9, 9, 9, 9, 2, 9, 9, 6, 6, 9, 9, 6, 9, 6,\n",
       "       6, 9, 9, 6, 6, 9, 9, 9, 6, 6, 9, 9, 9, 6, 9, 9, 9, 9, 6, 2, 9, 2,\n",
       "       2, 9, 9, 6, 9, 2, 9, 6, 6, 2, 6, 9, 2, 6, 9, 2, 9, 9, 2, 6, 9, 9,\n",
       "       9, 9, 2, 9, 2, 6, 9, 2, 9, 6, 9, 9, 9, 9, 9, 9, 9, 9, 9, 9, 9, 6,\n",
       "       6, 2, 6, 6, 9, 6, 6, 2, 9, 6, 2, 9])"
      ]
     },
     "execution_count": 7,
     "metadata": {},
     "output_type": "execute_result"
    }
   ],
   "source": [
    "# The \"p\" parameter receives a list with the probability that each number will be “drawn”.\n",
    "x = random.choice([2, 4, 6, 9], p=[0.2, 0.0, 0.3, 0.5], size=(100))\n",
    "x"
   ]
  },
  {
   "cell_type": "markdown",
   "metadata": {},
   "source": [
    "In the example above, number two has a twenty percent chance of being drawn with each new number. But that does not mean that twenty percent of the numbers drawn will be number two."
   ]
  },
  {
   "cell_type": "markdown",
   "metadata": {},
   "source": [
    "### Permutation of an array"
   ]
  },
  {
   "cell_type": "markdown",
   "metadata": {},
   "source": [
    "The numpy library has two methods for exchanging: [__shuffle__](https://docs.scipy.org/doc/numpy-1.15.0/reference/generated/numpy.random.shuffle.html#numpy.random.shuffle) and [__permutation__](https://docs.scipy.org/doc/numpy-1.15.0/reference/generated/numpy.random.permutation.html#numpy.random.permutation) method. The shuffler method shuffles the elements of the past matrix as an argument and the permutation method returns a new matrix, leaving the original intact."
   ]
  },
  {
   "cell_type": "code",
   "execution_count": 8,
   "metadata": {},
   "outputs": [],
   "source": [
    "# To generate random array we use the numpy library.\n",
    "import numpy as np"
   ]
  },
  {
   "cell_type": "code",
   "execution_count": 9,
   "metadata": {},
   "outputs": [
    {
     "data": {
      "text/plain": [
       "array([2, 3, 5, 4, 1])"
      ]
     },
     "execution_count": 9,
     "metadata": {},
     "output_type": "execute_result"
    }
   ],
   "source": [
    "array = np.array([1, 2, 3, 4, 5])\n",
    "# The array \"array\" is changed\n",
    "random.shuffle(array)\n",
    "array"
   ]
  },
  {
   "cell_type": "code",
   "execution_count": 10,
   "metadata": {},
   "outputs": [
    {
     "name": "stdout",
     "output_type": "stream",
     "text": [
      "[3 1 4 2 5]\n",
      "[1 2 3 4 5]\n"
     ]
    },
    {
     "data": {
      "text/plain": [
       "array([1, 2, 3, 4, 5])"
      ]
     },
     "execution_count": 10,
     "metadata": {},
     "output_type": "execute_result"
    }
   ],
   "source": [
    "array = np.array([1, 2, 3, 4, 5])\n",
    "\n",
    "# The array \"array\" is not changed\n",
    "print(random.permutation(array))\n",
    "print(array)\n",
    "array"
   ]
  },
  {
   "cell_type": "markdown",
   "metadata": {},
   "source": [
    "### Distributions"
   ]
  },
  {
   "cell_type": "markdown",
   "metadata": {},
   "source": [
    "In [statistics](https://www8.cs.umu.se/kursmaterial/ws-python-scientific-computing/s3l06b/index.html), the concept of form of [distribution](https://en.wikipedia.org/wiki/Probability_distribution) refers to the form of the probability distribution and it describes the random behavior of a phenomenon. A statistical distribution is a function that defines a curve, and the area under that curve determines the probability of the event that it correlates to occur.\n",
    "Below, five of them will be presented."
   ]
  },
  {
   "cell_type": "markdown",
   "metadata": {},
   "source": [
    "#### Normal Distribution"
   ]
  },
  {
   "cell_type": "markdown",
   "metadata": {},
   "source": [
    "We can obtain an array of random samples from the [normal distribution](https://numpy.org/doc/stable/reference/random/generated/numpy.random.Generator.normal.html#numpy.random.Generator.normal) through the Numpy function (np) random.normal where it will show us a symmetrical curve around its midpoint, presenting us the famous bell shape. The total area under a standard normal distribution curve is 100%. Therefore, the probability that a random variable will appear in the left half of the curve is 0.5. Of course, not all problems are that simple, which is why there is a Z-table. All a Z-table does is measure those probabilities (that is, 50%) and transform them on the same scale."
   ]
  },
  {
   "cell_type": "markdown",
   "metadata": {},
   "source": [
    "<table>\n",
    "  <tr>\n",
    "    <td style=\"text-align: center; vertical-align: middle;\">Z-Score Table</td>\n",
    "  </tr>\n",
    "  <tr>\n",
    "    <td>\n",
    "        <a href=\"https://byjus.com/maths/z-score-table/\">\n",
    "            <img src=\"Images/standardnormalprob.png\" width=250 height=4800></td>\n",
    "        </a>\n",
    "  </tr>\n",
    " </table>"
   ]
  },
  {
   "cell_type": "markdown",
   "metadata": {},
   "source": [
    "In order to visualize the distribution curves we will use the libraries [Matplotlib](https://matplotlib.org/3.2.1/gallery/statistics/histogram_histtypes.html), Pandas, Seaborn and [Statistics](https://docs.python.org/3/library/statistics.html#module-statistics)."
   ]
  },
  {
   "cell_type": "code",
   "execution_count": 11,
   "metadata": {},
   "outputs": [],
   "source": [
    "import matplotlib.pyplot as plt\n",
    "import seaborn as sns\n",
    "%matplotlib inline\n",
    "from scipy import stats #to find the mode"
   ]
  },
  {
   "cell_type": "code",
   "execution_count": 12,
   "metadata": {},
   "outputs": [
    {
     "data": {
      "text/plain": [
       "(-2.28332670197856, 2.9718967576268334, 0.5119781850192004, 0.4397684582621687)"
      ]
     },
     "execution_count": 12,
     "metadata": {},
     "output_type": "execute_result"
    }
   ],
   "source": [
    "# One-by-one hundred array of samples(One dimensional array)\n",
    "s=np.random.normal(loc=0.5, scale=1, size=(100)) # extracting random samples of normal distribution according to the function presented in the documentation\n",
    "np.min(s), np.max(s), np.mean(s), np.median(s) # lowest number, highest number, mean and median of the array"
   ]
  },
  {
   "cell_type": "code",
   "execution_count": 13,
   "metadata": {},
   "outputs": [
    {
     "data": {
      "text/plain": [
       "ModeResult(mode=array([-2.2833267]), count=array([1]))"
      ]
     },
     "execution_count": 13,
     "metadata": {},
     "output_type": "execute_result"
    }
   ],
   "source": [
    "#the number that most appears in the array.\n",
    "stats.mode(s)"
   ]
  },
  {
   "cell_type": "code",
   "execution_count": 14,
   "metadata": {},
   "outputs": [
    {
     "data": {
      "text/plain": [
       "Text(0, 0.5, 'Frequency')"
      ]
     },
     "execution_count": 14,
     "metadata": {},
     "output_type": "execute_result"
    },
    {
     "data": {
      "image/png": "[encoded data removed]",
      "text/plain": [
       "<Figure size 1080x288 with 1 Axes>"
      ]
     },
     "metadata": {
      "needs_background": "light"
     },
     "output_type": "display_data"
    }
   ],
   "source": [
    "# displaying the histogram of the samples\n",
    "fig, ax1 = plt.subplots(1, 1, figsize=(15, 4))\n",
    "sns.distplot(s, bins=10, ax=ax1)\n",
    "plt.title(\"Random Numbers\")\n",
    "plt.xlabel(\"Quantity\")\n",
    "plt.ylabel(\"Frequency\")"
   ]
  },
  {
   "cell_type": "markdown",
   "metadata": {},
   "source": [
    "As previously chosen in the random.normal function, the largest concentration of random numbers is close to 0.5. The highest point on the curve represents the value with the highest mode of the process, that is, the value that most appears in the \"s array\"."
   ]
  },
  {
   "cell_type": "markdown",
   "metadata": {},
   "source": [
    "#### Binomial Distribution"
   ]
  },
  {
   "cell_type": "markdown",
   "metadata": {},
   "source": [
    "Here we will understand that the [binomial distribution](https://en.wikipedia.org/wiki/Binomial_distribution#:~:text=In%20probability%20theory%20and%20statistics,%2Fone%20(with%20probability%20p)) is applied in cases of repeated experiments, where there are two possible results of probability: heads or tails, success or failure, defective item or non-defective item, and many other possible pairs.\n",
    "A random variable may have its probability distribution modeled in a binomial way if the result is completely determined by chance (random); the attempts or accomplishments of the experiment are independent, implying that there is a probability \"p\" of constant success in each attempt; the number of attempts \"n\" is a fixed value, an integer and positive."
   ]
  },
  {
   "cell_type": "markdown",
   "metadata": {},
   "source": [
    "We will use the [random.binomial](https://numpy.org/doc/stable/reference/random/generated/numpy.random.Generator.binomial.html#numpy.random.Generator.binomial) function as documented."
   ]
  },
  {
   "cell_type": "code",
   "execution_count": 15,
   "metadata": {},
   "outputs": [
    {
     "data": {
      "text/plain": [
       "array([1, 1, 2, 1, 1, 0, 2, 0, 3, 2, 0, 0, 0, 1, 0, 0, 1, 0, 1, 2, 1, 1,\n",
       "       1, 0, 0, 0, 1, 0, 0, 0, 0, 1, 3, 1, 1, 2, 2, 1, 0, 0, 2, 1, 1, 1,\n",
       "       2, 1, 1, 1, 1, 1, 0, 2, 1, 0, 1, 0, 1, 1, 0, 0, 0, 1, 1, 1, 0, 0,\n",
       "       1, 0, 0, 0, 1, 1, 2, 0, 1, 0, 0, 0, 1, 2, 0, 0, 1, 0, 1, 1, 1, 1,\n",
       "       0, 1, 0, 1, 2, 0, 1, 2, 1, 2, 1, 1])"
      ]
     },
     "execution_count": 15,
     "metadata": {},
     "output_type": "execute_result"
    }
   ],
   "source": [
    "# Generating 100 random numbers, with probability 0.3 in 3 attempts\n",
    "s=np.random.binomial(n=3, p=0.3, size=100)\n",
    "s"
   ]
  },
  {
   "cell_type": "code",
   "execution_count": 16,
   "metadata": {},
   "outputs": [
    {
     "data": {
      "text/plain": [
       "(array([0, 1, 2, 3]), array([38, 46, 14,  2], dtype=int64))"
      ]
     },
     "execution_count": 16,
     "metadata": {},
     "output_type": "execute_result"
    }
   ],
   "source": [
    "# This function shows us the numbers drawn and their respective quantities (times that appear)\n",
    "np.unique(s, return_index = False , return_inverse = False , return_counts = True , axis = None )"
   ]
  },
  {
   "cell_type": "code",
   "execution_count": 17,
   "metadata": {},
   "outputs": [
    {
     "data": {
      "text/plain": [
       "<matplotlib.axes._subplots.AxesSubplot at 0x2981480d040>"
      ]
     },
     "execution_count": 17,
     "metadata": {},
     "output_type": "execute_result"
    },
    {
     "data": {
      "image/png": "[encoded data removed]",
      "text/plain": [
       "<Figure size 432x288 with 1 Axes>"
      ]
     },
     "metadata": {
      "needs_background": "light"
     },
     "output_type": "display_data"
    }
   ],
   "source": [
    "sns.distplot(s)"
   ]
  },
  {
   "cell_type": "markdown",
   "metadata": {},
   "source": [
    "When we use the probability greater than 50%, we identify the highest values ​​to the right, being represented as the probability of success and vice versa."
   ]
  },
  {
   "cell_type": "markdown",
   "metadata": {},
   "source": [
    "#### Exponential Distribution"
   ]
  },
  {
   "cell_type": "markdown",
   "metadata": {},
   "source": [
    "The [exponential distribution](https://numpy.org/doc/stable/reference/random/generated/numpy.random.Generator.exponential.html#numpy.random.Generator.exponential) is a distribution widely used in practice to model failure time of objects. For example, it can be used to model the time it takes for a lamp to fail. It has an output parameter that can be interpreted as \"the average lifetime of the object\"."
   ]
  },
  {
   "cell_type": "code",
   "execution_count": 18,
   "metadata": {},
   "outputs": [],
   "source": [
    "s=np.random.exponential(scale=0.5, size=1000)"
   ]
  },
  {
   "cell_type": "code",
   "execution_count": 19,
   "metadata": {},
   "outputs": [
    {
     "data": {
      "text/plain": [
       "(array([1.47417182, 0.94205098, 0.54394575, 0.38233868, 0.24438143,\n",
       "        0.12219071, 0.13401562, 0.03547472, 0.01970818, 0.02364982,\n",
       "        0.01576654, 0.        , 0.        , 0.        , 0.00394164]),\n",
       " array([8.14174769e-04, 2.54515944e-01, 5.08217714e-01, 7.61919483e-01,\n",
       "        1.01562125e+00, 1.26932302e+00, 1.52302479e+00, 1.77672656e+00,\n",
       "        2.03042833e+00, 2.28413010e+00, 2.53783187e+00, 2.79153364e+00,\n",
       "        3.04523541e+00, 3.29893718e+00, 3.55263895e+00, 3.80634072e+00]),\n",
       " <a list of 15 Patch objects>)"
      ]
     },
     "execution_count": 19,
     "metadata": {},
     "output_type": "execute_result"
    },
    {
     "data": {
      "image/png": "[encoded data removed]",
      "text/plain": [
       "<Figure size 432x288 with 1 Axes>"
      ]
     },
     "metadata": {
      "needs_background": "light"
     },
     "output_type": "display_data"
    }
   ],
   "source": [
    "bins=15\n",
    "plt.hist(s,bins,density=True)"
   ]
  },
  {
   "cell_type": "code",
   "execution_count": null,
   "metadata": {},
   "outputs": [],
   "source": []
  },
  {
   "cell_type": "markdown",
   "metadata": {},
   "source": [
    "#### Poison Distribution"
   ]
  },
  {
   "cell_type": "markdown",
   "metadata": {},
   "source": [
    "The [Poisson distribution](https://en.wikipedia.org/wiki/Poisson_distribution) allows us to trust the average time between the occurrence of different events. They cannot, however, tell us the exact moment when an event can occur\n",
    "\n",
    "To recognize a Poisson distribution, just look at the following three aspects: \n",
    "- The experiment calculates how many times an event occurs in a given time interval, area, volume, etc; \n",
    "- The probability of the event occurring is the same for each interval; \n",
    "- The number of occurrences in one range is independent of the other."
   ]
  },
  {
   "cell_type": "code",
   "execution_count": 20,
   "metadata": {},
   "outputs": [
    {
     "data": {
      "text/plain": [
       "(0, 13, 3.00059, 3.0)"
      ]
     },
     "execution_count": 20,
     "metadata": {},
     "output_type": "execute_result"
    }
   ],
   "source": [
    "# Interval expectation (should be >= 0) for one hundred thousand samples\n",
    "s = np.random.poisson(3, 100000)\n",
    "np.min(s), np.max(s), np.mean(s), np.median(s) # lowest number, highest number, mean and median of the array"
   ]
  },
  {
   "cell_type": "code",
   "execution_count": 21,
   "metadata": {},
   "outputs": [
    {
     "data": {
      "text/plain": [
       "ModeResult(mode=array([3]), count=array([22335]))"
      ]
     },
     "execution_count": 21,
     "metadata": {},
     "output_type": "execute_result"
    }
   ],
   "source": [
    "#the number that most appears in the array.\n",
    "stats.mode(s)"
   ]
  },
  {
   "cell_type": "code",
   "execution_count": 22,
   "metadata": {},
   "outputs": [
    {
     "data": {
      "text/plain": [
       "Text(0, 0.5, 'Probability')"
      ]
     },
     "execution_count": 22,
     "metadata": {},
     "output_type": "execute_result"
    },
    {
     "data": {
      "image/png": "[encoded data removed]",
      "text/plain": [
       "<Figure size 432x288 with 1 Axes>"
      ]
     },
     "metadata": {
      "needs_background": "light"
     },
     "output_type": "display_data"
    }
   ],
   "source": [
    "# The histogram shows the number of events recorded in a series of 2 intervals. The data is simulated by drawing 100,000 random events from a Poisson distribution\n",
    "# Plot histogram\n",
    "plt.hist(s, align=\"left\", histtype=\"step\", color='black')\n",
    "plt.title(\"Discrete Data\")\n",
    "plt.xlabel(\"Number of Events\")\n",
    "plt.ylabel(\"Probability\")"
   ]
  },
  {
   "cell_type": "code",
   "execution_count": 23,
   "metadata": {},
   "outputs": [
    {
     "data": {
      "text/plain": [
       "(array([ 0,  1,  2,  3,  4,  5,  6,  7,  8,  9, 10, 11, 12, 13]),\n",
       " array([ 5037, 15083, 22140, 22335, 16927, 10027,  5052,  2191,   835,\n",
       "          252,    93,    17,     9,     2], dtype=int64))"
      ]
     },
     "execution_count": 23,
     "metadata": {},
     "output_type": "execute_result"
    }
   ],
   "source": [
    "# This function shows us the numbers drawn and their respective quantities (times that appear)\n",
    "np.unique(s, return_index = False , return_inverse = False , return_counts = True , axis = None )"
   ]
  },
  {
   "cell_type": "markdown",
   "metadata": {},
   "source": [
    "As we can see in the [\"unique\" function](https://numpy.org/doc/stable/reference/generated/numpy.unique.html#numpy.unique), the largest number of events happened at the beginning of the x axis. For example, if we were studying the calls (number) of a call center per hour (number of events) we would see that between zero and six hours the number of calls is greater, giving us the idea of an interval."
   ]
  },
  {
   "cell_type": "markdown",
   "metadata": {},
   "source": [
    "#### Pareto Distribution"
   ]
  },
  {
   "cell_type": "markdown",
   "metadata": {},
   "source": [
    "Created by Vilfredo Pareto in 1897 through the study of income distribution of the population, it found that 80% of the city's wealth was held by 20% of the population. This assumption preaches that most results in any situation are determined by a small number of causes and this principle is applied in studies related to Economics, Productivity, Politics, Development and among other areas that present the same pattern. \n",
    "\n",
    "Pareto Distribution is defined as greater than or equal to x with probability 1/x, for all x greater than or equal to 1. Therefore, a sampled number of this distribution is greater than or equal to 1 with probability 1, greater than or equal to 2 with probability exactly 1/2, greater than or equal to 3 with probability exactly 1/3, and so on. If the random.pareto function doesn't quite match the above probabilities due to the floating point printout, that's fine. This is because there is an inaccuracy of this type of number.\n",
    "\n",
    "- For each interval [a, b], where1 <= a <b the ideal probability that the sample will fall within this interval 1 / a - 1 / b. The probability that your program will produce a number in this range should be 0.001 out of 1 / a - 1 / b. If X is the output of your program, this is necessary | P (a <= X <= b) - (1 / a - 1 / b) | <0.001.\n",
    "\n",
    "Note that, when applying the above rule with a = 1e is sufficiently large, it is possible that your program will produce a number greater than or equal to 1 with at least 0.999 probability. The rest of the time can crash, generate Infinity output or do what else."
   ]
  },
  {
   "cell_type": "code",
   "execution_count": 64,
   "metadata": {},
   "outputs": [
    {
     "data": {
      "text/plain": [
       "array([ 0.58895289,  0.53434184,  0.22781158,  1.57261908,  6.13203035,\n",
       "        3.82505836,  0.2638706 ,  0.54926703,  2.76752704, 17.31143659])"
      ]
     },
     "execution_count": 64,
     "metadata": {},
     "output_type": "execute_result"
    }
   ],
   "source": [
    "s=np.random.pareto(a=1, size=(10))\n",
    "s"
   ]
  },
  {
   "cell_type": "code",
   "execution_count": null,
   "metadata": {},
   "outputs": [],
   "source": []
  },
  {
   "cell_type": "code",
   "execution_count": 65,
   "metadata": {},
   "outputs": [
    {
     "data": {
      "text/plain": [
       "<matplotlib.axes._subplots.AxesSubplot at 0x298158be5e0>"
      ]
     },
     "execution_count": 65,
     "metadata": {},
     "output_type": "execute_result"
    },
    {
     "data": {
      "image/png": "[encoded data removed]",
      "text/plain": [
       "<Figure size 432x288 with 1 Axes>"
      ]
     },
     "metadata": {
      "needs_background": "light"
     },
     "output_type": "display_data"
    }
   ],
   "source": [
    "sns.distplot(np.random.pareto(a=1, size=(10)), hist=False, label=1)\n",
    "sns.distplot(np.random.pareto(a=2, size=(10)), hist=False, label=2)\n",
    "sns.distplot(np.random.pareto(a=3, size=(10)), hist=False, label=3)"
   ]
  },
  {
   "cell_type": "markdown",
   "metadata": {},
   "source": [
    "In this distribution, 80 percent of the weights are in the lowest 20 percent of the range, while the other 20 percent fill the remaining 80 percent of the range."
   ]
  },
  {
   "cell_type": "markdown",
   "metadata": {},
   "source": []
  },
  {
   "cell_type": "markdown",
   "metadata": {},
   "source": [
    "##### What seeds are in the generation of pseudo-random numbers?"
   ]
  },
  {
   "cell_type": "code",
   "execution_count": null,
   "metadata": {},
   "outputs": [],
   "source": []
  },
  {
   "cell_type": "code",
   "execution_count": null,
   "metadata": {},
   "outputs": [],
   "source": []
  },
  {
   "cell_type": "code",
   "execution_count": null,
   "metadata": {},
   "outputs": [],
   "source": []
  },
  {
   "cell_type": "code",
   "execution_count": null,
   "metadata": {},
   "outputs": [],
   "source": []
  },
  {
   "cell_type": "code",
   "execution_count": null,
   "metadata": {},
   "outputs": [],
   "source": []
  },
  {
   "cell_type": "code",
   "execution_count": null,
   "metadata": {},
   "outputs": [],
   "source": []
  },
  {
   "cell_type": "code",
   "execution_count": null,
   "metadata": {},
   "outputs": [],
   "source": []
  },
  {
   "cell_type": "markdown",
   "metadata": {},
   "source": []
  },
  {
   "cell_type": "markdown",
   "metadata": {},
   "source": []
  },
  {
   "cell_type": "markdown",
   "metadata": {},
   "source": []
  },
  {
   "cell_type": "markdown",
   "metadata": {},
   "source": [
    "\n"
   ]
  },
  {
   "cell_type": "markdown",
   "metadata": {},
   "source": [
    "#### 3. Explaining the use and purpose of at least five “Distributions” functions."
   ]
  },
  {
   "cell_type": "markdown",
   "metadata": {},
   "source": [
    "#### 4. Explaining the use of seeds in generating pseudorandom numbers."
   ]
  },
  {
   "cell_type": "markdown",
   "metadata": {},
   "source": [
    "### Other References"
   ]
  },
  {
   "cell_type": "markdown",
   "metadata": {},
   "source": []
  },
  {
   "cell_type": "markdown",
   "metadata": {},
   "source": []
  },
  {
   "cell_type": "markdown",
   "metadata": {},
   "source": []
  },
  {
   "cell_type": "code",
   "execution_count": null,
   "metadata": {},
   "outputs": [],
   "source": [
    "plt.subplot(1, 2, 1)\n",
    "x = np.random.normal(0.0, 1.0, 10000)\n",
    "plt.hist(x)\n",
    "\n",
    "plt.subplot(1, 2, 2)\n",
    "x = np.random.uniform(-3.0, 3.0, 10000)\n",
    "plt.hist(x)\n",
    "\n",
    "plt.show()"
   ]
  },
  {
   "cell_type": "code",
   "execution_count": null,
   "metadata": {},
   "outputs": [],
   "source": [
    "x = np.arange(0.0, 10.0, 0.01)\n",
    "y = 3.0 * x + 1.0\n",
    "noise = np.random.normal(0.0, 1.0, len(x))\n",
    "\n",
    "plt.plot(x, y + noise, 'r.', label=\"Actual\")\n",
    "plt.plot(x, y, 'b-', label=\"Model\")\n",
    "\n",
    "plt.title(\"Simple plot\")\n",
    "plt.xlabel(\"Weight\")\n",
    "plt.ylabel(\"Mass\")\n",
    "plt.legend()\n",
    "\n",
    "plt.show()"
   ]
  },
  {
   "cell_type": "code",
   "execution_count": null,
   "metadata": {},
   "outputs": [],
   "source": [
    "x = np.arange(1.0, 100.0, 0.1)\n",
    "\n",
    "plt.plot(x, x**2, 'g-', label=\"x^2\")\n",
    "plt.plot(x, x**3, 'b-', label=\"x^3\")\n",
    "plt.plot(x, x**4, 'r-', label=\"x^4\")\n",
    "plt.plot(x, 2**x, 'k-', label=\"2^x\")\n",
    "\n",
    "plt.legend()\n",
    "\n",
    "plt.show()"
   ]
  },
  {
   "cell_type": "code",
   "execution_count": null,
   "metadata": {},
   "outputs": [],
   "source": [
    "x = np.random.uniform(0.0, 10.0, 100)\n",
    "y = np.random.uniform(0.0, 100.0, 100)\n",
    "z = np.random.normal(100.0, 40.0, 100)\n",
    "c = np.random.randint(0, 20, 100)\n",
    "\n",
    "plt.scatter(x, y, c=c, s=z)\n",
    "\n",
    "plt.show()"
   ]
  },
  {
   "cell_type": "code",
   "execution_count": null,
   "metadata": {},
   "outputs": [],
   "source": [
    "x = np.arange(-2.0 * np.pi, 2.0 * np.pi, 0.1)\n",
    "\n",
    "plt.plot(x, np.sin(x), 'g.')\n",
    "plt.plot(x, np.cos(x), 'b.')\n",
    "\n",
    "plt.show()"
   ]
  },
  {
   "cell_type": "code",
   "execution_count": null,
   "metadata": {},
   "outputs": [],
   "source": [
    "mu = 100 # media da disbribuicao\n",
    "sigma = 15 # desvio padrao\n",
    "x = mu + sigma * np.random.randn(10000) # amostra de 10 mil numeros\n",
    "num_bins = 50\n",
    "# esse comando gera 3 resutados;\n",
    "n, bins, patches = plt.hist(x, num_bins, normed=1, facecolor='green', alpha=0.4)\n",
    "# fazendo o ajuste da curva normal ao histograma\n",
    "y = mlab.normpdf(bins, mu, sigma)\n",
    "plt.plot(bins, y, 'r--')\n",
    "#Titulos\n",
    "plt.xlabel('Valores Prováveis')\n",
    "plt.ylabel('Probabilidade')\n",
    "plt.title(r'Histograma de IQ: $\\mu=100$, $\\sigma=15$')\n",
    "# chega os graficos para o lado\n",
    "plt.subplots_adjust(left=0.15)\n",
    "plt.show()"
   ]
  },
  {
   "cell_type": "code",
   "execution_count": null,
   "metadata": {},
   "outputs": [],
   "source": []
  }
 ],
 "metadata": {
  "kernelspec": {
   "display_name": "Python 3",
   "language": "python",
   "name": "python3"
  },
  "language_info": {
   "codemirror_mode": {
    "name": "ipython",
    "version": 3
   },
   "file_extension": ".py",
   "mimetype": "text/x-python",
   "name": "python",
   "nbconvert_exporter": "python",
   "pygments_lexer": "ipython3",
   "version": "3.8.3"
  }
 },
 "nbformat": 4,
 "nbformat_minor": 4
}
