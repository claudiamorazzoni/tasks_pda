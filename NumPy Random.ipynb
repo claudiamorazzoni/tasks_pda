{
 "cells": [
  {
   "cell_type": "markdown",
   "metadata": {},
   "source": [
    "###### This task aims to get to know the numpy.random package in Python. Below you will see my solutions to the Tasks assessment. The autor is Claudia Morazzoni (G00387828@gmit.ie)"
   ]
  },
  {
   "cell_type": "markdown",
   "metadata": {},
   "source": [
    "### First, let's understand the NumPy library"
   ]
  },
  {
   "cell_type": "markdown",
   "metadata": {},
   "source": [
    "Before getting started let me introduce you [NumPy](https://numpy.org/devdocs/user/whatisnumpy.html). Numpy is a powerful Python library that is mainly used to perform calculations (including linear algebra) on multidimensional arrays. It is a library developed in C and, therefore, the manipulation and treatment of data become fast. These types of numerical calculations are widely used in tasks such as:\n",
    "\n",
    "- __Machine Learning Models:__ When writing Machine Learning algorithms, it is assumed that several numerical calculations are performed in Array. For example, multiplication of Arrays, transposition, addition, etc. \n",
    "&nbsp;\n",
    "- __Image Processing and Computer Graphics:__ Images on the computer are represented as Multidimensional Arrays of numbers. NumPy, in fact, provides some excellent library functions for quick image manipulation. Some examples are mirroring an image, rotating an image by a certain angle, etc.\n",
    "&nbsp;\n",
    "- __Mathematical tasks:__ NumPy is very useful to perform various mathematical tasks such as numerical integration, differentiation, interpolation, extrapolation and many others. NumPy also has built-in functions for linear algebra and generation of random numbers. "
   ]
  },
  {
   "cell_type": "markdown",
   "metadata": {},
   "source": [
    "<table>\n",
    "  <tr>\n",
    "    <td style=\"text-align: center; vertical-align: middle;\">Matrix Addition</td>\n",
    "     <td style=\"text-align: center; vertical-align: middle;\">Geometric Transformation</td>\n",
    "     <td style=\"text-align: center; vertical-align: middle;\">Linear Algebra</td>\n",
    "  </tr>\n",
    "  <tr>\n",
    "    <td>\n",
    "        <a href=\"https://codeforwin.org/2017/12/c-program-add-two-matrix-using-pointers.html\">\n",
    "            <img src=\"Images/matrix.png\" width=150 height=480></td>\n",
    "        </a>\n",
    "    <td>\n",
    "        <a href=\"https://towardsdatascience.com/image-geometric-transformation-in-numpy-and-opencv-936f5cd1d315\">\n",
    "            <img src=\"Images/geometrictransformation.png\" width=150 height=480></td>\n",
    "        </a>\n",
    "    <td>\n",
    "        <a href=\"https://en.wikipedia.org/wiki/Linear_algebra\">\n",
    "            <img src=\"Images/linearalgebra.png\" width=150 height=480></td>\n",
    "        </a>\n",
    "  </tr>\n",
    " </table>"
   ]
  },
  {
   "cell_type": "markdown",
   "metadata": {},
   "source": [
    "### Finally Numpy Random"
   ]
  },
  {
   "cell_type": "markdown",
   "metadata": {},
   "source": [
    "NumPy has a sub-module called random that has several functions to generate random numbers (pseudo). Although Python has a standard library also called random, the NumPy library has more functionality and generates sample values ​​from various types of probability distributions.\n",
    "\n"
   ]
  },
  {
   "cell_type": "markdown",
   "metadata": {},
   "source": [
    "A random number is a number that logic was not used to reach. It is not possible to determine how this value was designed. However, it also does not mean a new number every time the program is run. It just means that the logic for reaching that number is unknown. Or that the variables involved in the process are incalculable.\n",
    "Most programs that generate [random numbers](https://en.wikipedia.org/wiki/Random_number_generation#Computational_methods) use specific algorithms to generate those numbers. And if there is an algorithm behind that number, it is possible to predict what the “random” number will be, so we can call these numbers pseudo-random."
   ]
  },
  {
   "cell_type": "markdown",
   "metadata": {},
   "source": [
    "### Simple random data"
   ]
  },
  {
   "cell_type": "markdown",
   "metadata": {},
   "source": [
    "Here we will generate a certain number of elements that are taken from a population at random. It is important to clarify, however, that all these elements are equally likely to be selected for the sample. \n",
    "\n",
    "We will use the [randon](https://numpy.org/doc/stable/reference/random/generated/numpy.random.Generator.random.html#numpy.random.Generator.random) and [bytes](https://numpy.org/doc/stable/reference/random/generated/numpy.random.Generator.bytes.html#numpy.random.Generator.bytes) method. "
   ]
  },
  {
   "cell_type": "code",
   "execution_count": 1,
   "metadata": {},
   "outputs": [],
   "source": [
    "# To generate pseudo-random numbers we use the random module.\n",
    "import numpy as np\n",
    "import numpy.random as rd"
   ]
  },
  {
   "cell_type": "code",
   "execution_count": 5,
   "metadata": {},
   "outputs": [
    {
     "data": {
      "text/plain": [
       "0.16222093753816802"
      ]
     },
     "execution_count": 5,
     "metadata": {},
     "output_type": "execute_result"
    }
   ],
   "source": [
    "# The variable x will receive random float numbers in the half-open interval [0.0, 1.0].\n",
    "x= rd.random()\n",
    "x"
   ]
  },
  {
   "cell_type": "code",
   "execution_count": 6,
   "metadata": {},
   "outputs": [
    {
     "data": {
      "text/plain": [
       "b'\\x07@\\xbbw\\x0fF\\x9d3\\xee\\x9e'"
      ]
     },
     "execution_count": 6,
     "metadata": {},
     "output_type": "execute_result"
    }
   ],
   "source": [
    "# Generate a number of random bytes according to the chosen size\n",
    "x= rd.bytes(10) \n",
    "x"
   ]
  },
  {
   "cell_type": "markdown",
   "metadata": {},
   "source": [
    "##### Other methods of generating an array."
   ]
  },
  {
   "cell_type": "markdown",
   "metadata": {},
   "source": [
    "If we pass the size parameter in the same [randint](https://docs.scipy.org/doc/numpy-1.15.0/reference/generated/numpy.random.randint.html#numpy.random.randint) function we will create an array. The size parameter determines the number of random numbers that must be generated."
   ]
  },
  {
   "cell_type": "code",
   "execution_count": 7,
   "metadata": {},
   "outputs": [
    {
     "data": {
      "text/plain": [
       "array([33, 95, 43, 58,  9, 77])"
      ]
     },
     "execution_count": 7,
     "metadata": {},
     "output_type": "execute_result"
    }
   ],
   "source": [
    "# Here the variable x will receive a list with six random numbers, between 0 and 100, generating an array of only one dimension\n",
    "x = rd.randint(100, size=(6))\n",
    "x"
   ]
  },
  {
   "cell_type": "markdown",
   "metadata": {},
   "source": [
    "Inserting the number of random numbers that you want for the [rand](https://docs.scipy.org/doc/numpy-1.15.0/reference/generated/numpy.random.rand.html#numpy.random.rand) method, the result will be a list with the number of numbers informed."
   ]
  },
  {
   "cell_type": "code",
   "execution_count": 8,
   "metadata": {},
   "outputs": [
    {
     "data": {
      "text/plain": [
       "array([0.46405156, 0.73983229, 0.22788707, 0.74882549, 0.4397756 ,\n",
       "       0.28434462, 0.23193121, 0.30309531, 0.18482815, 0.05008743])"
      ]
     },
     "execution_count": 8,
     "metadata": {},
     "output_type": "execute_result"
    }
   ],
   "source": [
    "# The rand method with parameters returns random numbers array with a floating point between 0 and 1\n",
    "x = rd.rand(10)\n",
    "x"
   ]
  },
  {
   "cell_type": "markdown",
   "metadata": {},
   "source": [
    "If it is necessary to choose a random number from a finite number of possibilities, the [choice](https://docs.scipy.org/doc/numpy-1.15.0/reference/generated/numpy.random.choice.html#numpy.random.choice) method can be used. For example, if you need to choose a random number between two, four, six, nine, and twelve. The choice method does this, it chooses a number among those informed."
   ]
  },
  {
   "cell_type": "code",
   "execution_count": 9,
   "metadata": {},
   "outputs": [
    {
     "data": {
      "text/plain": [
       "4"
      ]
     },
     "execution_count": 9,
     "metadata": {},
     "output_type": "execute_result"
    }
   ],
   "source": [
    "# Generates a random sample from a given 1-D array\n",
    "x = rd.choice([2, 4, 6, 9, 12])\n",
    "x"
   ]
  },
  {
   "cell_type": "markdown",
   "metadata": {},
   "source": [
    "Now let's imagine that we need to create a list with random values, but that we need certain numbers to appear more often than others. This type of list is widely used with data science and statistics. The random module has methods that allow you to create lists with numbers that will appear more often in the matrix than others, at random. The distribution of the elements in the matrix would have a greater or lesser density of a certain number, according to its probability. For example, if you want sixty percent of the numbers in a list to be number two. The probability of leaving the number two must be 0.6. And if you don't want a number to appear in the list, just set your probability to zero.\n",
    "\n",
    "The method we are going to use to create this list is the choice method. The only difference from the previous examples is the addition of the probability parameter p. The greater the probability, the greater the chance that it will be drawn."
   ]
  },
  {
   "cell_type": "code",
   "execution_count": 10,
   "metadata": {},
   "outputs": [
    {
     "data": {
      "text/plain": [
       "array([2, 9, 6, 2, 9, 6, 9, 6, 2, 6, 6, 9, 2, 9, 9, 6, 9, 6, 6, 9, 9, 9,\n",
       "       6, 6, 6, 9, 9, 2, 6, 9, 6, 9, 9, 9, 2, 6, 6, 6, 9, 6, 2, 9, 9, 6,\n",
       "       6, 2, 9, 6, 2, 9, 6, 9, 6, 9, 9, 2, 6, 2, 6, 9, 9, 9, 9, 9, 9, 9,\n",
       "       9, 2, 6, 6, 9, 6, 9, 9, 9, 9, 6, 9, 2, 6, 2, 6, 6, 9, 6, 9, 6, 9,\n",
       "       9, 2, 9, 2, 9, 2, 2, 6, 2, 6, 9, 9])"
      ]
     },
     "execution_count": 10,
     "metadata": {},
     "output_type": "execute_result"
    }
   ],
   "source": [
    "# The \"p\" parameter receives a list with the probability that each number will be “drawn”.\n",
    "x = rd.choice([2, 4, 6, 9], p=[0.2, 0.0, 0.3, 0.5], size=(100))\n",
    "x"
   ]
  },
  {
   "cell_type": "markdown",
   "metadata": {},
   "source": [
    "In the example above, number two has a twenty percent chance of being drawn with each new number. But that does not mean that twenty percent of the numbers drawn will be number two."
   ]
  },
  {
   "cell_type": "markdown",
   "metadata": {},
   "source": [
    "### Permutation of an array"
   ]
  },
  {
   "cell_type": "markdown",
   "metadata": {},
   "source": [
    "The numpy library has two methods for exchanging: [__shuffle__](https://docs.scipy.org/doc/numpy-1.15.0/reference/generated/numpy.random.shuffle.html#numpy.random.shuffle) and [__permutation__](https://docs.scipy.org/doc/numpy-1.15.0/reference/generated/numpy.random.permutation.html#numpy.random.permutation) method. The shuffler method shuffles the elements of the past matrix as an argument and the permutation method returns a new matrix, leaving the original intact."
   ]
  },
  {
   "cell_type": "code",
   "execution_count": 14,
   "metadata": {},
   "outputs": [
    {
     "data": {
      "text/plain": [
       "array([1, 4, 5, 2, 3])"
      ]
     },
     "execution_count": 14,
     "metadata": {},
     "output_type": "execute_result"
    }
   ],
   "source": [
    "# To create a array we use Numpy Library\n",
    "array = np.array([1, 2, 3, 4, 5])\n",
    "\n",
    "# The array \"array\" is changed\n",
    "rd.shuffle(array)\n",
    "array"
   ]
  },
  {
   "cell_type": "code",
   "execution_count": 16,
   "metadata": {},
   "outputs": [
    {
     "name": "stdout",
     "output_type": "stream",
     "text": [
      "[2 1 3 5 4]\n",
      "[1 2 3 4 5]\n"
     ]
    },
    {
     "data": {
      "text/plain": [
       "array([1, 2, 3, 4, 5])"
      ]
     },
     "execution_count": 16,
     "metadata": {},
     "output_type": "execute_result"
    }
   ],
   "source": [
    "# To create a array we use Numpy Library\n",
    "array = np.array([1, 2, 3, 4, 5])\n",
    "\n",
    "# The array \"array\" is not changed\n",
    "print(rd.permutation(array))\n",
    "print(array)\n",
    "array"
   ]
  },
  {
   "cell_type": "markdown",
   "metadata": {},
   "source": [
    "### Distributions"
   ]
  },
  {
   "cell_type": "markdown",
   "metadata": {},
   "source": [
    "In [statistics](https://www8.cs.umu.se/kursmaterial/ws-python-scientific-computing/s3l06b/index.html), the concept of form of [distribution](https://en.wikipedia.org/wiki/Probability_distribution) refers to the form of the probability distribution and it describes the random behavior of a phenomenon. A statistical distribution is a function that defines a curve, and the area under that curve determines the probability of the event that it correlates to occur.\n",
    "Below, five of them will be presented."
   ]
  },
  {
   "cell_type": "markdown",
   "metadata": {},
   "source": [
    "#### Normal Distribution"
   ]
  },
  {
   "cell_type": "markdown",
   "metadata": {},
   "source": [
    "We can obtain an array of random samples from the [normal distribution](https://numpy.org/doc/stable/reference/random/generated/numpy.random.Generator.normal.html#numpy.random.Generator.normal) through the Numpy function (np) random.normal where it will show us a symmetrical curve around its midpoint, presenting us the famous bell shape. The total area under a standard normal distribution curve is 100%. Therefore, the probability that a random variable will appear in the left half of the curve is 0.5. Of course, not all problems are that simple, which is why there is a Z-table. All a Z-table does is measure those probabilities (that is, 50%) and transform them on the same scale."
   ]
  },
  {
   "cell_type": "markdown",
   "metadata": {},
   "source": [
    "<table>\n",
    "  <tr>\n",
    "    <td style=\"text-align: center; vertical-align: middle;\">Z-Score Table</td>\n",
    "  </tr>\n",
    "  <tr>\n",
    "    <td>\n",
    "        <a href=\"https://byjus.com/maths/z-score-table/\">\n",
    "            <img src=\"Images/standardnormalprob.png\" width=250 height=4800></td>\n",
    "        </a>\n",
    "  </tr>\n",
    " </table>"
   ]
  },
  {
   "cell_type": "markdown",
   "metadata": {},
   "source": [
    "In order to visualize the distribution curves we will use the libraries [Matplotlib](https://matplotlib.org/3.2.1/gallery/statistics/histogram_histtypes.html), [Pandas](https://pandas.pydata.org/docs/), [Seaborn](https://seaborn.pydata.org/) and [Statistics](https://docs.python.org/3/library/statistics.html#module-statistics)."
   ]
  },
  {
   "cell_type": "code",
   "execution_count": 17,
   "metadata": {},
   "outputs": [],
   "source": [
    "import matplotlib.pyplot as plt\n",
    "import seaborn as sns\n",
    "from scipy import stats #to find the mode\n",
    "sns.set(rc={'figure.figsize':(15,4)}) # To set the figure size as standard"
   ]
  },
  {
   "cell_type": "code",
   "execution_count": 25,
   "metadata": {},
   "outputs": [
    {
     "data": {
      "text/plain": [
       "(-1.7909284415606654,\n",
       " 2.953339958531173,\n",
       " 0.4788697173207011,\n",
       " 0.42179864049367277)"
      ]
     },
     "execution_count": 25,
     "metadata": {},
     "output_type": "execute_result"
    }
   ],
   "source": [
    "# One-by-one hundred array of samples(One dimensional array)\n",
    "s=rd.normal(loc=0.5, scale=1, size=(100)) # extracting random samples of normal distribution according to the function presented in the documentation\n",
    "np.min(s), np.max(s), np.mean(s), np.median(s) # lowest number, highest number, mean and median of the array"
   ]
  },
  {
   "cell_type": "code",
   "execution_count": 26,
   "metadata": {},
   "outputs": [
    {
     "data": {
      "text/plain": [
       "ModeResult(mode=array([-1.79092844]), count=array([1]))"
      ]
     },
     "execution_count": 26,
     "metadata": {},
     "output_type": "execute_result"
    }
   ],
   "source": [
    "#the number that most appears in the array.\n",
    "stats.mode(s)"
   ]
  },
  {
   "cell_type": "code",
   "execution_count": 27,
   "metadata": {},
   "outputs": [
    {
     "data": {
      "text/plain": [
       "Text(0, 0.5, 'Frequency')"
      ]
     },
     "execution_count": 27,
     "metadata": {},
     "output_type": "execute_result"
    },
    {
     "data": {
      "image/png": "[encoded data removed]",
      "text/plain": [
       "<Figure size 1080x288 with 1 Axes>"
      ]
     },
     "metadata": {},
     "output_type": "display_data"
    }
   ],
   "source": [
    "# displaying the histogram of the samples\n",
    "fig, ax1 = plt.subplots(1, 1, figsize=(15, 4))\n",
    "sns.distplot(s, bins=10, ax=ax1)\n",
    "plt.title(\"Random Numbers\")\n",
    "plt.xlabel(\"Quantity\")\n",
    "plt.ylabel(\"Frequency\")"
   ]
  },
  {
   "cell_type": "markdown",
   "metadata": {},
   "source": [
    "As previously chosen in the random.normal function, the largest concentration of random numbers is close to 0.5. The highest point on the curve represents the value with the highest mode of the process, that is, the value that most appears in the \"s array\"."
   ]
  },
  {
   "cell_type": "markdown",
   "metadata": {},
   "source": [
    "#### Binomial Distribution"
   ]
  },
  {
   "cell_type": "markdown",
   "metadata": {},
   "source": [
    "Here we will understand that the [binomial distribution](https://en.wikipedia.org/wiki/Binomial_distribution#:~:text=In%20probability%20theory%20and%20statistics,%2Fone%20(with%20probability%20p)) is applied in cases of repeated experiments, where there are two possible results of probability: heads or tails, success or failure, defective item or non-defective item, and many other possible pairs.\n",
    "A random variable may have its probability distribution modeled in a binomial way if the result is completely determined by chance (random); the attempts or accomplishments of the experiment are independent, implying that there is a probability \"p\" of constant success in each attempt; the number of attempts \"n\" is a fixed value, an integer and positive."
   ]
  },
  {
   "cell_type": "markdown",
   "metadata": {},
   "source": [
    "We will use the [random.binomial](https://numpy.org/doc/stable/reference/random/generated/numpy.random.Generator.binomial.html#numpy.random.Generator.binomial) function as documented."
   ]
  },
  {
   "cell_type": "code",
   "execution_count": 28,
   "metadata": {},
   "outputs": [
    {
     "data": {
      "text/plain": [
       "array([0, 0, 2, 2, 0, 1, 0, 2, 0, 1, 1, 3, 1, 2, 1, 2, 0, 1, 1, 2, 0, 2,\n",
       "       0, 1, 0, 1, 2, 0, 0, 1, 0, 1, 0, 0, 1, 1, 1, 1, 1, 0, 1, 1, 0, 0,\n",
       "       2, 1, 1, 1, 3, 2, 0, 1, 0, 1, 1, 1, 0, 1, 0, 3, 2, 0, 1, 2, 1, 1,\n",
       "       0, 1, 1, 2, 0, 3, 1, 1, 0, 2, 2, 0, 2, 1, 0, 0, 0, 0, 1, 0, 0, 1,\n",
       "       1, 0, 2, 0, 1, 1, 1, 0, 1, 1, 0, 0])"
      ]
     },
     "execution_count": 28,
     "metadata": {},
     "output_type": "execute_result"
    }
   ],
   "source": [
    "# Generating 100 random numbers, with probability 0.3 in 3 attempts\n",
    "s=rd.binomial(n=3, p=0.3, size=100)\n",
    "s"
   ]
  },
  {
   "cell_type": "code",
   "execution_count": 29,
   "metadata": {},
   "outputs": [
    {
     "data": {
      "text/plain": [
       "(array([0, 1, 2, 3]), array([37, 42, 17,  4], dtype=int64))"
      ]
     },
     "execution_count": 29,
     "metadata": {},
     "output_type": "execute_result"
    }
   ],
   "source": [
    "# This function shows us the numbers drawn and their respective quantities (times that appear)\n",
    "np.unique(s, return_index = False , return_inverse = False , return_counts = True , axis = None )"
   ]
  },
  {
   "cell_type": "code",
   "execution_count": 30,
   "metadata": {},
   "outputs": [
    {
     "data": {
      "text/plain": [
       "<matplotlib.axes._subplots.AxesSubplot at 0x168239d2460>"
      ]
     },
     "execution_count": 30,
     "metadata": {},
     "output_type": "execute_result"
    },
    {
     "data": {
      "image/png": "[encoded data removed]",
      "text/plain": [
       "<Figure size 1080x288 with 1 Axes>"
      ]
     },
     "metadata": {},
     "output_type": "display_data"
    }
   ],
   "source": [
    "sns.distplot(s)"
   ]
  },
  {
   "cell_type": "markdown",
   "metadata": {},
   "source": [
    "When we use the probability greater than 50%, we identify the highest values ​​to the right, being represented as the probability of success and vice versa."
   ]
  },
  {
   "cell_type": "markdown",
   "metadata": {},
   "source": [
    "#### Exponential Distribution"
   ]
  },
  {
   "cell_type": "markdown",
   "metadata": {},
   "source": [
    "The [exponential distribution](https://numpy.org/doc/stable/reference/random/generated/numpy.random.Generator.exponential.html#numpy.random.Generator.exponential) is a distribution widely used in practice to model failure time of objects. For example, it can be used to model the time it takes for a lamp to fail. It has an output parameter that can be interpreted as \"the average lifetime of the object\"."
   ]
  },
  {
   "cell_type": "code",
   "execution_count": 32,
   "metadata": {},
   "outputs": [],
   "source": [
    "s=rd.exponential(scale=0.5, size=1000)"
   ]
  },
  {
   "cell_type": "code",
   "execution_count": 33,
   "metadata": {},
   "outputs": [
    {
     "data": {
      "text/plain": [
       "(array([1.51325837, 0.93210678, 0.57360417, 0.31699178, 0.16981702,\n",
       "        0.11698506, 0.0641531 , 0.02641598, 0.02264227, 0.01132113,\n",
       "        0.01886856, 0.        , 0.        , 0.00377371, 0.00377371]),\n",
       " array([6.28443913e-04, 2.65619543e-01, 5.30610643e-01, 7.95601742e-01,\n",
       "        1.06059284e+00, 1.32558394e+00, 1.59057504e+00, 1.85556614e+00,\n",
       "        2.12055724e+00, 2.38554834e+00, 2.65053944e+00, 2.91553054e+00,\n",
       "        3.18052164e+00, 3.44551274e+00, 3.71050384e+00, 3.97549494e+00]),\n",
       " <a list of 15 Patch objects>)"
      ]
     },
     "execution_count": 33,
     "metadata": {},
     "output_type": "execute_result"
    },
    {
     "data": {
      "image/png": "[encoded data removed]",
      "text/plain": [
       "<Figure size 1080x288 with 1 Axes>"
      ]
     },
     "metadata": {},
     "output_type": "display_data"
    }
   ],
   "source": [
    "bins=15\n",
    "plt.hist(s,bins,density=True)"
   ]
  },
  {
   "cell_type": "markdown",
   "metadata": {},
   "source": [
    "#### Poison Distribution"
   ]
  },
  {
   "cell_type": "markdown",
   "metadata": {},
   "source": [
    "The [Poisson distribution](https://en.wikipedia.org/wiki/Poisson_distribution) allows us to trust the average time between the occurrence of different events. They cannot, however, tell us the exact moment when an event can occur\n",
    "\n",
    "To recognize a Poisson distribution, just look at the following three aspects: \n",
    "- The experiment calculates how many times an event occurs in a given time interval, area, volume, etc; \n",
    "- The probability of the event occurring is the same for each interval; \n",
    "- The number of occurrences in one range is independent of the other."
   ]
  },
  {
   "cell_type": "code",
   "execution_count": 34,
   "metadata": {},
   "outputs": [
    {
     "data": {
      "text/plain": [
       "(0, 13, 2.98765, 3.0)"
      ]
     },
     "execution_count": 34,
     "metadata": {},
     "output_type": "execute_result"
    }
   ],
   "source": [
    "# Interval expectation (should be >= 0) for one hundred thousand samples\n",
    "s = rd.poisson(3, 100000)\n",
    "np.min(s), np.max(s), np.mean(s), np.median(s) # lowest number, highest number, mean and median of the array"
   ]
  },
  {
   "cell_type": "code",
   "execution_count": 35,
   "metadata": {},
   "outputs": [
    {
     "data": {
      "text/plain": [
       "ModeResult(mode=array([3]), count=array([22500]))"
      ]
     },
     "execution_count": 35,
     "metadata": {},
     "output_type": "execute_result"
    }
   ],
   "source": [
    "#the number that most appears in the array.\n",
    "stats.mode(s)"
   ]
  },
  {
   "cell_type": "code",
   "execution_count": 36,
   "metadata": {},
   "outputs": [
    {
     "data": {
      "text/plain": [
       "Text(0, 0.5, 'Probability')"
      ]
     },
     "execution_count": 36,
     "metadata": {},
     "output_type": "execute_result"
    },
    {
     "data": {
      "image/png": "[encoded data removed]",
      "text/plain": [
       "<Figure size 1080x288 with 1 Axes>"
      ]
     },
     "metadata": {},
     "output_type": "display_data"
    }
   ],
   "source": [
    "# The histogram shows the number of events recorded in a series of 2 intervals. The data is simulated by drawing 100,000 random events from a Poisson distribution\n",
    "# Plot histogram\n",
    "plt.hist(s, align=\"left\", histtype=\"step\", color='black')\n",
    "plt.title(\"Discrete Data\")\n",
    "plt.xlabel(\"Number of Events\")\n",
    "plt.ylabel(\"Probability\")"
   ]
  },
  {
   "cell_type": "code",
   "execution_count": 37,
   "metadata": {},
   "outputs": [
    {
     "data": {
      "text/plain": [
       "(array([ 0,  1,  2,  3,  4,  5,  6,  7,  8,  9, 10, 11, 12, 13]),\n",
       " array([ 5125, 14913, 22410, 22500, 16788, 10005,  5021,  2138,   759,\n",
       "          242,    82,    13,     2,     2], dtype=int64))"
      ]
     },
     "execution_count": 37,
     "metadata": {},
     "output_type": "execute_result"
    }
   ],
   "source": [
    "# This function shows us the numbers drawn and their respective quantities (times that appear)\n",
    "np.unique(s, return_index = False , return_inverse = False , return_counts = True , axis = None )"
   ]
  },
  {
   "cell_type": "markdown",
   "metadata": {},
   "source": [
    "As we can see in the [\"unique\" function](https://numpy.org/doc/stable/reference/generated/numpy.unique.html#numpy.unique), the largest number of events happened at the beginning of the x axis. For example, if we were studying the calls (number) of a call center per hour (number of events) we would see that between zero and six hours the number of calls is greater, giving us the idea of an interval."
   ]
  },
  {
   "cell_type": "markdown",
   "metadata": {},
   "source": [
    "#### Pareto Distribution"
   ]
  },
  {
   "cell_type": "markdown",
   "metadata": {},
   "source": [
    "Created by Vilfredo Pareto in 1897 through the study of income distribution of the population, it found that 80% of the city's wealth was held by 20% of the population. This assumption preaches that most results in any situation are determined by a small number of causes and this principle is applied in studies related to Economics, Productivity, Politics, Development and among other areas that present the same pattern. \n",
    "\n",
    "Pareto Distribution is defined as greater than or equal to x with probability 1/x, for all x greater than or equal to 1. Therefore, a sampled number of this distribution is greater than or equal to 1 with probability 1, greater than or equal to 2 with probability exactly 1/2, greater than or equal to 3 with probability exactly 1/3, and so on. If the random.pareto function doesn't quite match the above probabilities due to the floating point printout, that's fine. This is because there is an inaccuracy of this type of number.\n",
    "\n",
    "- For each interval [a, b], where1 <= a <b the ideal probability that the sample will fall within this interval 1 / a - 1 / b. The probability that your program will produce a number in this range should be 0.001 out of 1 / a - 1 / b. If X is the output of your program, this is necessary | P (a <= X <= b) - (1 / a - 1 / b) | <0.001.\n",
    "\n",
    "Note that, when applying the above rule with a = 1e is sufficiently large, it is possible that your program will produce a number greater than or equal to 1 with at least 0.999 probability. The rest of the time can crash, generate Infinity output or do what else."
   ]
  },
  {
   "cell_type": "code",
   "execution_count": 38,
   "metadata": {},
   "outputs": [
    {
     "data": {
      "text/plain": [
       "array([ 1.85741784,  3.27977197,  2.48435208,  1.64015111,  0.86703891,\n",
       "       38.39438091,  0.83097967,  0.52754876,  7.05982833, 10.3479844 ])"
      ]
     },
     "execution_count": 38,
     "metadata": {},
     "output_type": "execute_result"
    }
   ],
   "source": [
    "s=rd.pareto(a=1, size=(10))\n",
    "s"
   ]
  },
  {
   "cell_type": "code",
   "execution_count": 39,
   "metadata": {},
   "outputs": [
    {
     "data": {
      "text/plain": [
       "<matplotlib.axes._subplots.AxesSubplot at 0x1682424f0d0>"
      ]
     },
     "execution_count": 39,
     "metadata": {},
     "output_type": "execute_result"
    },
    {
     "data": {
      "image/png": "[encoded data removed]",
      "text/plain": [
       "<Figure size 1080x288 with 1 Axes>"
      ]
     },
     "metadata": {},
     "output_type": "display_data"
    }
   ],
   "source": [
    "sns.distplot(np.random.pareto(a=1, size=(10)), hist=False, label=1)\n",
    "sns.distplot(np.random.pareto(a=2, size=(10)), hist=False, label=2)\n",
    "sns.distplot(np.random.pareto(a=3, size=(10)), hist=False, label=3)"
   ]
  },
  {
   "cell_type": "markdown",
   "metadata": {},
   "source": [
    "In this distribution, 80 percent of the weights are in the lowest 20 percent of the range, while the other 20 percent fill the remaining 80 percent of the range."
   ]
  },
  {
   "cell_type": "markdown",
   "metadata": {},
   "source": [
    "### What seeds are in the generation of pseudo-random numbers?"
   ]
  },
  {
   "cell_type": "markdown",
   "metadata": {},
   "source": [
    "As already mentioned here, what we usually call a sequence of random numbers, in reality, is a sequence of \"pseudo-random\" numbers because the values are calculated using a deterministic algorithm and the probability does not play a real role.\n",
    "\n",
    "The \"seed\" is a starting point for the sequence and the guarantee is that if you start from the same seed, you will get the same sequence of numbers. This is very useful, for example, for debugging (when you are looking for a bug in a program, you need to be able to reproduce the problem and study it, a non-deterministic program would be much more difficult to debug because each run would be different"
   ]
  },
  {
   "cell_type": "code",
   "execution_count": 45,
   "metadata": {},
   "outputs": [
    {
     "name": "stdout",
     "output_type": "stream",
     "text": [
      "265\n",
      "125\n",
      "996\n",
      "527\n",
      "320\n"
     ]
    }
   ],
   "source": [
    "# Here I established a seed (number 10).\n",
    "rd.seed(10)\n",
    "\n",
    "# This function generates 5 random numbers\n",
    "for i in range(5):\n",
    "#Choose a random number between 0 and 999\n",
    "    number = rd.randint(0,1000)\n",
    "    print(number)"
   ]
  },
  {
   "cell_type": "markdown",
   "metadata": {},
   "source": [
    "I can run this code as many times as necessary but the result of the five random numbers will always be the same."
   ]
  },
  {
   "cell_type": "markdown",
   "metadata": {},
   "source": [
    "### Other References"
   ]
  },
  {
   "cell_type": "code",
   "execution_count": null,
   "metadata": {},
   "outputs": [],
   "source": [
    "plt.subplot(1, 2, 1)\n",
    "x = np.random.normal(0.0, 1.0, 10000)\n",
    "plt.hist(x)\n",
    "\n",
    "plt.subplot(1, 2, 2)\n",
    "x = np.random.uniform(-3.0, 3.0, 10000)\n",
    "plt.hist(x)\n",
    "\n",
    "plt.show()"
   ]
  },
  {
   "cell_type": "code",
   "execution_count": null,
   "metadata": {},
   "outputs": [],
   "source": [
    "x = np.arange(0.0, 10.0, 0.01)\n",
    "y = 3.0 * x + 1.0\n",
    "noise = np.random.normal(0.0, 1.0, len(x))\n",
    "\n",
    "plt.plot(x, y + noise, 'r.', label=\"Actual\")\n",
    "plt.plot(x, y, 'b-', label=\"Model\")\n",
    "\n",
    "plt.title(\"Simple plot\")\n",
    "plt.xlabel(\"Weight\")\n",
    "plt.ylabel(\"Mass\")\n",
    "plt.legend()\n",
    "\n",
    "plt.show()"
   ]
  },
  {
   "cell_type": "code",
   "execution_count": null,
   "metadata": {},
   "outputs": [],
   "source": [
    "x = np.arange(1.0, 100.0, 0.1)\n",
    "\n",
    "plt.plot(x, x**2, 'g-', label=\"x^2\")\n",
    "plt.plot(x, x**3, 'b-', label=\"x^3\")\n",
    "plt.plot(x, x**4, 'r-', label=\"x^4\")\n",
    "plt.plot(x, 2**x, 'k-', label=\"2^x\")\n",
    "\n",
    "plt.legend()\n",
    "\n",
    "plt.show()"
   ]
  },
  {
   "cell_type": "code",
   "execution_count": null,
   "metadata": {},
   "outputs": [],
   "source": [
    "x = np.random.uniform(0.0, 10.0, 100)\n",
    "y = np.random.uniform(0.0, 100.0, 100)\n",
    "z = np.random.normal(100.0, 40.0, 100)\n",
    "c = np.random.randint(0, 20, 100)\n",
    "\n",
    "plt.scatter(x, y, c=c, s=z)\n",
    "\n",
    "plt.show()"
   ]
  },
  {
   "cell_type": "code",
   "execution_count": null,
   "metadata": {},
   "outputs": [],
   "source": [
    "x = np.arange(-2.0 * np.pi, 2.0 * np.pi, 0.1)\n",
    "\n",
    "plt.plot(x, np.sin(x), 'g.')\n",
    "plt.plot(x, np.cos(x), 'b.')\n",
    "\n",
    "plt.show()"
   ]
  },
  {
   "cell_type": "code",
   "execution_count": null,
   "metadata": {},
   "outputs": [],
   "source": [
    "mu = 100 # media da disbribuicao\n",
    "sigma = 15 # desvio padrao\n",
    "x = mu + sigma * np.random.randn(10000) # amostra de 10 mil numeros\n",
    "num_bins = 50\n",
    "# esse comando gera 3 resutados;\n",
    "n, bins, patches = plt.hist(x, num_bins, normed=1, facecolor='green', alpha=0.4)\n",
    "# fazendo o ajuste da curva normal ao histograma\n",
    "y = mlab.normpdf(bins, mu, sigma)\n",
    "plt.plot(bins, y, 'r--')\n",
    "#Titulos\n",
    "plt.xlabel('Valores Prováveis')\n",
    "plt.ylabel('Probabilidade')\n",
    "plt.title(r'Histograma de IQ: $\\mu=100$, $\\sigma=15$')\n",
    "# chega os graficos para o lado\n",
    "plt.subplots_adjust(left=0.15)\n",
    "plt.show()"
   ]
  },
  {
   "cell_type": "code",
   "execution_count": null,
   "metadata": {},
   "outputs": [],
   "source": []
  }
 ],
 "metadata": {
  "kernelspec": {
   "display_name": "Python 3",
   "language": "python",
   "name": "python3"
  },
  "language_info": {
   "codemirror_mode": {
    "name": "ipython",
    "version": 3
   },
   "file_extension": ".py",
   "mimetype": "text/x-python",
   "name": "python",
   "nbconvert_exporter": "python",
   "pygments_lexer": "ipython3",
   "version": "3.8.3"
  }
 },
 "nbformat": 4,
 "nbformat_minor": 4
}
